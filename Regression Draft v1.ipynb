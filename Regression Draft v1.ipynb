{
 "cells": [
  {
   "cell_type": "markdown",
   "metadata": {},
   "source": [
    "# Regression Project - Yelin"
   ]
  },
  {
   "cell_type": "code",
   "execution_count": 957,
   "metadata": {},
   "outputs": [],
   "source": [
    "# Data Cleaning and Manipulation\n",
    "import pandas as pd\n",
    "import numpy as np\n",
    "\n",
    "# Visualization\n",
    "import matplotlib.pyplot as plt\n",
    "import seaborn as sns\n",
    "\n",
    "# Data preprocessing\n",
    "from sklearn.impute import SimpleImputer\n",
    "\n",
    "# Regression\n",
    "from sklearn.preprocessing import PolynomialFeatures, StandardScaler, RobustScaler\n",
    "from sklearn.model_selection import train_test_split, GridSearchCV\n",
    "from sklearn.linear_model import RidgeCV, ElasticNet, ElasticNetCV, LassoCV\n",
    "from sklearn.metrics import mean_absolute_error,mean_squared_error\n",
    "from sklearn.linear_model import LinearRegression\n",
    "from sklearn.preprocessing import OneHotEncoder\n",
    "from sklearn.model_selection import KFold\n",
    "from scipy.spatial import KDTree"
   ]
  },
  {
   "cell_type": "markdown",
   "metadata": {},
   "source": [
    "## Summary of Work Flow"
   ]
  },
  {
   "cell_type": "markdown",
   "metadata": {},
   "source": [
    "### Model 1\n",
    "`rent_org` -> `rent_v1`: Data is cleaned to make sure there is no missing values except for `sq_feet`. Manipulation of entries with `type` == `Room For Rent` is performed. See detail in EDA and Data Peparation section. \n",
    "\n",
    "`rent_v1` -> `rent_imputed_beds`: `sq_feet_num` is created to correct the format issue in `sq_feet` and fill in the missing data.\n",
    "\n",
    "`rent_v1` -> `rent_v3`: Data is encoded using `encoding()`. `rent_v3` is used to train and test `Lasso` and `Ridge` model. \n",
    "\n",
    "`Lasso` and `Ridge` are tested 10 times using `modeling()`. The performance metrics are stored in `model1a_metrics` and `model1b_metrics`, and the average of performance metrics are evaluated. \n",
    "\n",
    "### Model 1 Modified, dropped outliers\n",
    "`rent_imputed_beds` -> `rent_v4`: Droped selected `type`, log transformation to `sq_feet_num`\n",
    "\n",
    "`rent_v4` -> `rent_v5`: Data is encoded using `encoding()`. `rent_v5` is used to train and test `Lasso` and `Ridge` model.\n",
    "\n",
    "`Lasso` and `Ridge` are tested 10 times using `modeling()`. The performance metrics are stored in `model1a_metrics_m` and `model1b_metrics_m`, and the average of performance metrics are evaluated. \n",
    "\n",
    "### Model 2 - Creation of interaction term and dropped outliers\n",
    "`rent_v4` is further modified prior to the creation of the second model: \n",
    "1. Interaction terms of `bedroom/sqsft` and `bathroom/sqft` is added.\n",
    "2. `price/sqft` is created.\n",
    "\n",
    "`rent_v4` -> `rent_v6`: Extreme outliers in `price/sqft` is dropped.\n",
    "\n",
    "`rent_v6` -> `rent_v7`: Data is encoded using `encoding()`. `rent_v7` is used to train and test `Lasso` and `Ridge` model. \n",
    "\n",
    "`Lasso` and `Ridge` are tested 10 times using `modeling2()`. The performance metrics are stored in `model2_metrics` and `model2_metrics`, and the average of performance metrics are evaluated. \n",
    "\n",
    "### Model 3 - Creation of zipcode index\n",
    "`rent_v6` -> `rent_v8`: `postcode` and `postcode_index` are creted based on the mapping of `longitude` and `latitude`, and the group average of `price/sqft`.\n",
    "\n",
    "`rent_v8` -> `rent_v9`: Data is encoded using `encoding_v3()`. `rent_v8` is used to train and test `Lasso` and `Ridge` model.\n",
    "\n",
    "`Lasso` and `Ridge` are tested 10 times using `modeling()`. The performance metrics are stored in `model3_metrics` and `model3_metrics`, and the average of performance metrics are evaluated. \n",
    "\n",
    "\n",
    "### Functions\n",
    "`encoding()` -> `encoding_v3`: Extra columns are encoded due to the creation of `postcode_index`.\n",
    "`modeling()` -> `modeling2()`: Extra columns are scaled due to the creation of features from `rent_v4` -> `rent_v6`."
   ]
  },
  {
   "cell_type": "markdown",
   "metadata": {},
   "source": [
    "## EDA and Data Preparation"
   ]
  },
  {
   "cell_type": "code",
   "execution_count": 958,
   "metadata": {},
   "outputs": [
    {
     "data": {
      "text/html": [
       "<div>\n",
       "<style scoped>\n",
       "    .dataframe tbody tr th:only-of-type {\n",
       "        vertical-align: middle;\n",
       "    }\n",
       "\n",
       "    .dataframe tbody tr th {\n",
       "        vertical-align: top;\n",
       "    }\n",
       "\n",
       "    .dataframe thead th {\n",
       "        text-align: right;\n",
       "    }\n",
       "</style>\n",
       "<table border=\"1\" class=\"dataframe\">\n",
       "  <thead>\n",
       "    <tr style=\"text-align: right;\">\n",
       "      <th></th>\n",
       "      <th>rentfaster_id</th>\n",
       "      <th>city</th>\n",
       "      <th>province</th>\n",
       "      <th>address</th>\n",
       "      <th>latitude</th>\n",
       "      <th>longitude</th>\n",
       "      <th>lease_term</th>\n",
       "      <th>type</th>\n",
       "      <th>price</th>\n",
       "      <th>beds</th>\n",
       "      <th>baths</th>\n",
       "      <th>sq_feet</th>\n",
       "      <th>link</th>\n",
       "      <th>furnishing</th>\n",
       "      <th>availability_date</th>\n",
       "      <th>smoking</th>\n",
       "      <th>cats</th>\n",
       "      <th>dogs</th>\n",
       "    </tr>\n",
       "  </thead>\n",
       "  <tbody>\n",
       "    <tr>\n",
       "      <th>20792</th>\n",
       "      <td>542010</td>\n",
       "      <td>Toronto</td>\n",
       "      <td>Ontario</td>\n",
       "      <td>3464 Yonge St</td>\n",
       "      <td>43.734946</td>\n",
       "      <td>-79.404881</td>\n",
       "      <td>Long Term</td>\n",
       "      <td>Apartment</td>\n",
       "      <td>2200.0</td>\n",
       "      <td>1 Bed</td>\n",
       "      <td>1</td>\n",
       "      <td>600</td>\n",
       "      <td>/on/toronto/rentals/apartment/1-bedroom/542010</td>\n",
       "      <td>Unfurnished</td>\n",
       "      <td>Immediate</td>\n",
       "      <td>NaN</td>\n",
       "      <td>False</td>\n",
       "      <td>False</td>\n",
       "    </tr>\n",
       "    <tr>\n",
       "      <th>13419</th>\n",
       "      <td>327463</td>\n",
       "      <td>Calgary</td>\n",
       "      <td>Alberta</td>\n",
       "      <td>2409 28 Street Southwest</td>\n",
       "      <td>51.032736</td>\n",
       "      <td>-114.128386</td>\n",
       "      <td>Long Term</td>\n",
       "      <td>Townhouse</td>\n",
       "      <td>1850.0</td>\n",
       "      <td>2 Beds</td>\n",
       "      <td>1</td>\n",
       "      <td>1000</td>\n",
       "      <td>/ab/calgary/rentals/townhouse/2-bedrooms/killa...</td>\n",
       "      <td>Unfurnished</td>\n",
       "      <td>August 01</td>\n",
       "      <td>Non-Smoking</td>\n",
       "      <td>False</td>\n",
       "      <td>False</td>\n",
       "    </tr>\n",
       "    <tr>\n",
       "      <th>13342</th>\n",
       "      <td>473182</td>\n",
       "      <td>Calgary</td>\n",
       "      <td>Alberta</td>\n",
       "      <td>1140 15th Ave SW</td>\n",
       "      <td>51.039530</td>\n",
       "      <td>-114.088654</td>\n",
       "      <td>Long Term</td>\n",
       "      <td>Condo Unit</td>\n",
       "      <td>2450.0</td>\n",
       "      <td>2 Beds</td>\n",
       "      <td>1.5</td>\n",
       "      <td>894</td>\n",
       "      <td>/ab/calgary/rentals/condo/2-bedrooms/beltline/...</td>\n",
       "      <td>Furnished</td>\n",
       "      <td>August 01</td>\n",
       "      <td>Non-Smoking</td>\n",
       "      <td>False</td>\n",
       "      <td>False</td>\n",
       "    </tr>\n",
       "    <tr>\n",
       "      <th>13217</th>\n",
       "      <td>571898</td>\n",
       "      <td>Calgary</td>\n",
       "      <td>Alberta</td>\n",
       "      <td>707 - 550 Riverfront Avenue SE</td>\n",
       "      <td>51.044733</td>\n",
       "      <td>-114.071883</td>\n",
       "      <td>Long Term</td>\n",
       "      <td>Apartment</td>\n",
       "      <td>2600.0</td>\n",
       "      <td>1 Bed</td>\n",
       "      <td>1.5</td>\n",
       "      <td>665</td>\n",
       "      <td>/ab/calgary/rentals/apartment/1-bedroom/downto...</td>\n",
       "      <td>Unfurnished</td>\n",
       "      <td>July 09</td>\n",
       "      <td>Non-Smoking</td>\n",
       "      <td>False</td>\n",
       "      <td>False</td>\n",
       "    </tr>\n",
       "    <tr>\n",
       "      <th>3765</th>\n",
       "      <td>570071</td>\n",
       "      <td>Calgary</td>\n",
       "      <td>Alberta</td>\n",
       "      <td>1540 29 St NW</td>\n",
       "      <td>51.065740</td>\n",
       "      <td>-114.129630</td>\n",
       "      <td>Long Term</td>\n",
       "      <td>Room For Rent</td>\n",
       "      <td>900.0</td>\n",
       "      <td>3 Beds</td>\n",
       "      <td>1</td>\n",
       "      <td>NaN</td>\n",
       "      <td>/ab/calgary/rentals/shared/3-bedrooms/st-andre...</td>\n",
       "      <td>Furnished</td>\n",
       "      <td>July 01</td>\n",
       "      <td>Non-Smoking</td>\n",
       "      <td>False</td>\n",
       "      <td>False</td>\n",
       "    </tr>\n",
       "  </tbody>\n",
       "</table>\n",
       "</div>"
      ],
      "text/plain": [
       "       rentfaster_id     city province                         address  \\\n",
       "20792         542010  Toronto  Ontario                   3464 Yonge St   \n",
       "13419         327463  Calgary  Alberta        2409 28 Street Southwest   \n",
       "13342         473182  Calgary  Alberta                1140 15th Ave SW   \n",
       "13217         571898  Calgary  Alberta  707 - 550 Riverfront Avenue SE   \n",
       "3765          570071  Calgary  Alberta                   1540 29 St NW   \n",
       "\n",
       "        latitude   longitude lease_term           type   price    beds baths  \\\n",
       "20792  43.734946  -79.404881  Long Term      Apartment  2200.0   1 Bed     1   \n",
       "13419  51.032736 -114.128386  Long Term      Townhouse  1850.0  2 Beds     1   \n",
       "13342  51.039530 -114.088654  Long Term     Condo Unit  2450.0  2 Beds   1.5   \n",
       "13217  51.044733 -114.071883  Long Term      Apartment  2600.0   1 Bed   1.5   \n",
       "3765   51.065740 -114.129630  Long Term  Room For Rent   900.0  3 Beds     1   \n",
       "\n",
       "      sq_feet                                               link   furnishing  \\\n",
       "20792     600     /on/toronto/rentals/apartment/1-bedroom/542010  Unfurnished   \n",
       "13419    1000  /ab/calgary/rentals/townhouse/2-bedrooms/killa...  Unfurnished   \n",
       "13342     894  /ab/calgary/rentals/condo/2-bedrooms/beltline/...    Furnished   \n",
       "13217     665  /ab/calgary/rentals/apartment/1-bedroom/downto...  Unfurnished   \n",
       "3765      NaN  /ab/calgary/rentals/shared/3-bedrooms/st-andre...    Furnished   \n",
       "\n",
       "      availability_date      smoking   cats   dogs  \n",
       "20792         Immediate          NaN  False  False  \n",
       "13419         August 01  Non-Smoking  False  False  \n",
       "13342         August 01  Non-Smoking  False  False  \n",
       "13217           July 09  Non-Smoking  False  False  \n",
       "3765            July 01  Non-Smoking  False  False  "
      ]
     },
     "execution_count": 958,
     "metadata": {},
     "output_type": "execute_result"
    }
   ],
   "source": [
    "# Import data\n",
    "rent_org = pd.read_csv('canada_rent.csv')\n",
    "rent_org.sample(5)"
   ]
  },
  {
   "cell_type": "code",
   "execution_count": 959,
   "metadata": {},
   "outputs": [
    {
     "name": "stdout",
     "output_type": "stream",
     "text": [
      "<class 'pandas.core.frame.DataFrame'>\n",
      "RangeIndex: 25771 entries, 0 to 25770\n",
      "Data columns (total 18 columns):\n",
      " #   Column             Non-Null Count  Dtype  \n",
      "---  ------             --------------  -----  \n",
      " 0   rentfaster_id      25771 non-null  int64  \n",
      " 1   city               25771 non-null  object \n",
      " 2   province           25771 non-null  object \n",
      " 3   address            25646 non-null  object \n",
      " 4   latitude           25771 non-null  float64\n",
      " 5   longitude          25771 non-null  float64\n",
      " 6   lease_term         25725 non-null  object \n",
      " 7   type               25771 non-null  object \n",
      " 8   price              25771 non-null  float64\n",
      " 9   beds               25639 non-null  object \n",
      " 10  baths              25637 non-null  object \n",
      " 11  sq_feet            21659 non-null  object \n",
      " 12  link               25771 non-null  object \n",
      " 13  furnishing         25771 non-null  object \n",
      " 14  availability_date  25759 non-null  object \n",
      " 15  smoking            23069 non-null  object \n",
      " 16  cats               25598 non-null  object \n",
      " 17  dogs               25598 non-null  object \n",
      "dtypes: float64(3), int64(1), object(14)\n",
      "memory usage: 3.5+ MB\n"
     ]
    }
   ],
   "source": [
    "rent_org.info() # 25771 * 17, with null data"
   ]
  },
  {
   "cell_type": "markdown",
   "metadata": {},
   "source": [
    "### Summary\n",
    "Points to watch:\n",
    "\n",
    "- The dataset contains **NULL** value. This needs to be handled\n",
    "- `city`, `province`, `address`, `latitude`, `longitude` encode similar information - can drop some columns based on further analysis\n",
    "- `lease_term`, `type`, `furnishing`, `smoking`, `cats`, `dogs` are categorical data - needs to be encoded\n",
    "- `sq_feet`, `beds`, `baths` should be numeric - needs to be converted into int|float\n",
    "- `rentfaster_id`, `link`, `availability_date` can be dropped\n",
    "- `price` as the target variable needs to be further explroed\n",
    "- There are duplicates found when investigating the dataset accidentally - needs to be dropped"
   ]
  },
  {
   "cell_type": "markdown",
   "metadata": {},
   "source": [
    "### Data Exploration"
   ]
  },
  {
   "cell_type": "code",
   "execution_count": 960,
   "metadata": {},
   "outputs": [
    {
     "data": {
      "text/plain": [
       "Text(0.5, 1.0, 'Price Distribution, >10000')"
      ]
     },
     "execution_count": 960,
     "metadata": {},
     "output_type": "execute_result"
    },
    {
     "data": {
      "image/png": "[encoded data removed]",
      "text/plain": [
       "<Figure size 1700x500 with 3 Axes>"
      ]
     },
     "metadata": {},
     "output_type": "display_data"
    }
   ],
   "source": [
    "# Distribution in price\n",
    "fig1, (ax1,ax2, ax3) = plt.subplots(ncols=3, figsize=(17,5))\n",
    "\n",
    "sns.histplot(ax=ax1, data=rent_org[rent_org['price']<=5000], x='price', bins=30)\n",
    "ax1.set_title(\"Price Distribution, <=5000\")\n",
    "\n",
    "sns.histplot(ax=ax2, data=rent_org[(rent_org['price']>5000)&(rent_org['price']<=10000)], x='price', bins=30)\n",
    "ax2.set_title(\"Price Distribution, 5000~10000\")\n",
    "\n",
    "sns.histplot(ax=ax3, data=rent_org[rent_org['price']>10000], x='price', bins=30)\n",
    "ax3.set_title(\"Price Distribution, >10000\")"
   ]
  },
  {
   "cell_type": "markdown",
   "metadata": {},
   "source": [
    "Visualization of price distribution showed that:\n",
    "\n",
    "- There are certain properties with the rent price of 0.0 - consider to drop because the data is invalid\n",
    "\n",
    "- There are also properties with significant high rent price - consider to handle"
   ]
  },
  {
   "cell_type": "code",
   "execution_count": 961,
   "metadata": {},
   "outputs": [
    {
     "data": {
      "text/plain": [
       "(25544, 18)"
      ]
     },
     "execution_count": 961,
     "metadata": {},
     "output_type": "execute_result"
    }
   ],
   "source": [
    "# Drop where price == 0 \n",
    "rent_v1 = rent_org.drop(rent_org[rent_org['price']==0].index)\n",
    "rent_v1.shape # Pass"
   ]
  },
  {
   "cell_type": "code",
   "execution_count": 962,
   "metadata": {},
   "outputs": [
    {
     "data": {
      "text/plain": [
       "(18947, 17)"
      ]
     },
     "execution_count": 962,
     "metadata": {},
     "output_type": "execute_result"
    }
   ],
   "source": [
    "# Drop duplicates\n",
    "rent_v1.drop(columns=['rentfaster_id'],inplace=True)\n",
    "rent_v1 = rent_v1.drop_duplicates()\n",
    "rent_v1.shape"
   ]
  },
  {
   "cell_type": "markdown",
   "metadata": {},
   "source": [
    "### Missing Value Exploration"
   ]
  },
  {
   "cell_type": "code",
   "execution_count": 963,
   "metadata": {},
   "outputs": [
    {
     "data": {
      "text/plain": [
       "address              True\n",
       "lease_term           True\n",
       "beds                 True\n",
       "baths                True\n",
       "sq_feet              True\n",
       "availability_date    True\n",
       "smoking              True\n",
       "cats                 True\n",
       "dogs                 True\n",
       "dtype: bool"
      ]
     },
     "execution_count": 963,
     "metadata": {},
     "output_type": "execute_result"
    }
   ],
   "source": [
    "# Pull out columns containing null values\n",
    "def get_null_col(df):\n",
    "    return df.isna().any()[df.isna().any()]\n",
    "\n",
    "get_null_col(rent_v1) "
   ]
  },
  {
   "cell_type": "markdown",
   "metadata": {},
   "source": [
    "#### address\n",
    "Consider to drop the entire column of address becaue latitude and longitude can give the same information."
   ]
  },
  {
   "cell_type": "markdown",
   "metadata": {},
   "source": [
    "#### lease_term"
   ]
  },
  {
   "cell_type": "code",
   "execution_count": 964,
   "metadata": {},
   "outputs": [
    {
     "data": {
      "text/plain": [
       "Long Term     17726\n",
       "Negotiable      903\n",
       "Short Term      222\n",
       "12 months        62\n",
       "6 months          2\n",
       "months            1\n",
       "Name: lease_term, dtype: int64"
      ]
     },
     "execution_count": 964,
     "metadata": {},
     "output_type": "execute_result"
    }
   ],
   "source": [
    "# Check unique values in lease Term\n",
    "rent_v1['lease_term'].value_counts()"
   ]
  },
  {
   "cell_type": "code",
   "execution_count": 965,
   "metadata": {},
   "outputs": [
    {
     "data": {
      "text/plain": [
       "(31, 17)"
      ]
     },
     "execution_count": 965,
     "metadata": {},
     "output_type": "execute_result"
    }
   ],
   "source": [
    "# Chrck null value in lease term\n",
    "rent_v1[rent_v1['lease_term'].isna()].shape"
   ]
  },
  {
   "cell_type": "markdown",
   "metadata": {},
   "source": [
    "Consider to drop where `lease_term` == NA , as most of the rows have `sq_feet` == NA and missing value is small proportion (~0.1%)."
   ]
  },
  {
   "cell_type": "markdown",
   "metadata": {},
   "source": [
    "#### sq_feet"
   ]
  },
  {
   "cell_type": "code",
   "execution_count": 966,
   "metadata": {},
   "outputs": [
    {
     "data": {
      "text/plain": [
       "(2917, 17)"
      ]
     },
     "execution_count": 966,
     "metadata": {},
     "output_type": "execute_result"
    }
   ],
   "source": [
    "rent_v1[rent_v1['sq_feet'].isna()].shape"
   ]
  },
  {
   "cell_type": "markdown",
   "metadata": {},
   "source": [
    "Consider to impute missing values in `sq_feet` by:\n",
    "1. group by `type` and/or `beds` and `baths`, fill in average `sq_feet`\n",
    "\n",
    "OR\n",
    "\n",
    "2. make a multiple regression modeel based on `beds`, `baths`, and/or `type`"
   ]
  },
  {
   "cell_type": "markdown",
   "metadata": {},
   "source": [
    "#### beds and baths"
   ]
  },
  {
   "cell_type": "code",
   "execution_count": 967,
   "metadata": {},
   "outputs": [
    {
     "data": {
      "text/html": [
       "<div>\n",
       "<style scoped>\n",
       "    .dataframe tbody tr th:only-of-type {\n",
       "        vertical-align: middle;\n",
       "    }\n",
       "\n",
       "    .dataframe tbody tr th {\n",
       "        vertical-align: top;\n",
       "    }\n",
       "\n",
       "    .dataframe thead th {\n",
       "        text-align: right;\n",
       "    }\n",
       "</style>\n",
       "<table border=\"1\" class=\"dataframe\">\n",
       "  <thead>\n",
       "    <tr style=\"text-align: right;\">\n",
       "      <th></th>\n",
       "      <th>city</th>\n",
       "      <th>province</th>\n",
       "      <th>address</th>\n",
       "      <th>latitude</th>\n",
       "      <th>longitude</th>\n",
       "      <th>lease_term</th>\n",
       "      <th>type</th>\n",
       "      <th>price</th>\n",
       "      <th>beds</th>\n",
       "      <th>baths</th>\n",
       "      <th>sq_feet</th>\n",
       "      <th>link</th>\n",
       "      <th>furnishing</th>\n",
       "      <th>availability_date</th>\n",
       "      <th>smoking</th>\n",
       "      <th>cats</th>\n",
       "      <th>dogs</th>\n",
       "    </tr>\n",
       "  </thead>\n",
       "  <tbody>\n",
       "    <tr>\n",
       "      <th>8519</th>\n",
       "      <td>Red Deer</td>\n",
       "      <td>Alberta</td>\n",
       "      <td>5029 34 Street</td>\n",
       "      <td>52.255015</td>\n",
       "      <td>-113.859991</td>\n",
       "      <td>Long Term</td>\n",
       "      <td>Parking Spot</td>\n",
       "      <td>575.0</td>\n",
       "      <td>NaN</td>\n",
       "      <td>NaN</td>\n",
       "      <td>NaN</td>\n",
       "      <td>/ab/red-deer/rentals/parking-spot/south-hill/n...</td>\n",
       "      <td>Unfurnished</td>\n",
       "      <td>Immediate</td>\n",
       "      <td>Non-Smoking</td>\n",
       "      <td>NaN</td>\n",
       "      <td>NaN</td>\n",
       "    </tr>\n",
       "    <tr>\n",
       "      <th>3144</th>\n",
       "      <td>Calgary</td>\n",
       "      <td>Alberta</td>\n",
       "      <td>112 14 Avenue Southeast</td>\n",
       "      <td>51.039699</td>\n",
       "      <td>-114.062609</td>\n",
       "      <td>Negotiable</td>\n",
       "      <td>Parking Spot</td>\n",
       "      <td>250.0</td>\n",
       "      <td>NaN</td>\n",
       "      <td>NaN</td>\n",
       "      <td>NaN</td>\n",
       "      <td>/ab/calgary/rentals/parking-spot/victoria-park...</td>\n",
       "      <td>Unfurnished</td>\n",
       "      <td>July 01</td>\n",
       "      <td>Non-Smoking</td>\n",
       "      <td>NaN</td>\n",
       "      <td>NaN</td>\n",
       "    </tr>\n",
       "    <tr>\n",
       "      <th>11296</th>\n",
       "      <td>Calgary</td>\n",
       "      <td>Alberta</td>\n",
       "      <td>210 15 Avenue Southeast</td>\n",
       "      <td>51.038829</td>\n",
       "      <td>-114.060384</td>\n",
       "      <td>Long Term</td>\n",
       "      <td>Parking Spot</td>\n",
       "      <td>240.0</td>\n",
       "      <td>NaN</td>\n",
       "      <td>NaN</td>\n",
       "      <td>NaN</td>\n",
       "      <td>/ab/calgary/rentals/parking-spot/victoria-park...</td>\n",
       "      <td>Unfurnished</td>\n",
       "      <td>Immediate</td>\n",
       "      <td>Non-Smoking</td>\n",
       "      <td>NaN</td>\n",
       "      <td>NaN</td>\n",
       "    </tr>\n",
       "    <tr>\n",
       "      <th>10940</th>\n",
       "      <td>Calgary</td>\n",
       "      <td>Alberta</td>\n",
       "      <td>1212 1 Street Southeast</td>\n",
       "      <td>51.040658</td>\n",
       "      <td>-114.060370</td>\n",
       "      <td>Negotiable</td>\n",
       "      <td>Office Space</td>\n",
       "      <td>800.0</td>\n",
       "      <td>NaN</td>\n",
       "      <td>NaN</td>\n",
       "      <td>NaN</td>\n",
       "      <td>/ab/calgary/rentals/office-space/victoria-park...</td>\n",
       "      <td>Unfurnished</td>\n",
       "      <td>Immediate</td>\n",
       "      <td>Non-Smoking</td>\n",
       "      <td>NaN</td>\n",
       "      <td>NaN</td>\n",
       "    </tr>\n",
       "    <tr>\n",
       "      <th>2474</th>\n",
       "      <td>Calgary</td>\n",
       "      <td>Alberta</td>\n",
       "      <td>5964 Centre Street South</td>\n",
       "      <td>50.999645</td>\n",
       "      <td>-114.063610</td>\n",
       "      <td>Negotiable</td>\n",
       "      <td>Office Space</td>\n",
       "      <td>1100.0</td>\n",
       "      <td>NaN</td>\n",
       "      <td>NaN</td>\n",
       "      <td>NaN</td>\n",
       "      <td>/ab/calgary/rentals/office-space/manchester/no...</td>\n",
       "      <td>Unfurnished</td>\n",
       "      <td>Immediate</td>\n",
       "      <td>Non-Smoking</td>\n",
       "      <td>NaN</td>\n",
       "      <td>NaN</td>\n",
       "    </tr>\n",
       "  </tbody>\n",
       "</table>\n",
       "</div>"
      ],
      "text/plain": [
       "           city province                   address   latitude   longitude  \\\n",
       "8519   Red Deer  Alberta            5029 34 Street  52.255015 -113.859991   \n",
       "3144    Calgary  Alberta   112 14 Avenue Southeast  51.039699 -114.062609   \n",
       "11296   Calgary  Alberta   210 15 Avenue Southeast  51.038829 -114.060384   \n",
       "10940   Calgary  Alberta   1212 1 Street Southeast  51.040658 -114.060370   \n",
       "2474    Calgary  Alberta  5964 Centre Street South  50.999645 -114.063610   \n",
       "\n",
       "       lease_term          type   price beds baths sq_feet  \\\n",
       "8519    Long Term  Parking Spot   575.0  NaN   NaN     NaN   \n",
       "3144   Negotiable  Parking Spot   250.0  NaN   NaN     NaN   \n",
       "11296   Long Term  Parking Spot   240.0  NaN   NaN     NaN   \n",
       "10940  Negotiable  Office Space   800.0  NaN   NaN     NaN   \n",
       "2474   Negotiable  Office Space  1100.0  NaN   NaN     NaN   \n",
       "\n",
       "                                                    link   furnishing  \\\n",
       "8519   /ab/red-deer/rentals/parking-spot/south-hill/n...  Unfurnished   \n",
       "3144   /ab/calgary/rentals/parking-spot/victoria-park...  Unfurnished   \n",
       "11296  /ab/calgary/rentals/parking-spot/victoria-park...  Unfurnished   \n",
       "10940  /ab/calgary/rentals/office-space/victoria-park...  Unfurnished   \n",
       "2474   /ab/calgary/rentals/office-space/manchester/no...  Unfurnished   \n",
       "\n",
       "      availability_date      smoking cats dogs  \n",
       "8519          Immediate  Non-Smoking  NaN  NaN  \n",
       "3144            July 01  Non-Smoking  NaN  NaN  \n",
       "11296         Immediate  Non-Smoking  NaN  NaN  \n",
       "10940         Immediate  Non-Smoking  NaN  NaN  \n",
       "2474          Immediate  Non-Smoking  NaN  NaN  "
      ]
     },
     "execution_count": 967,
     "metadata": {},
     "output_type": "execute_result"
    }
   ],
   "source": [
    "rent_v1[rent_v1['beds'].isna()].sample(5)"
   ]
  },
  {
   "cell_type": "markdown",
   "metadata": {},
   "source": [
    "Note that for most of the cases where `beds` is NA, `baths` and `sq_fee`t are also NA"
   ]
  },
  {
   "cell_type": "code",
   "execution_count": 968,
   "metadata": {},
   "outputs": [
    {
     "data": {
      "text/plain": [
       "((66, 17), (65, 17), (67, 17), (65, 17))"
      ]
     },
     "execution_count": 968,
     "metadata": {},
     "output_type": "execute_result"
    }
   ],
   "source": [
    "# Check\n",
    "rent_v1[rent_v1['beds'].isna()].shape,\\\n",
    "rent_v1[(rent_v1['baths'].isna())&(rent_v1['beds'].isna())&(rent_v1['sq_feet'].isna())].shape,\\\n",
    "rent_v1[rent_v1['baths'].isna()].shape,\\\n",
    "rent_v1[(rent_v1['baths'].isna())&(rent_v1['sq_feet'].isna())].shape"
   ]
  },
  {
   "cell_type": "markdown",
   "metadata": {},
   "source": [
    "Consider to drop where `beds` or `bath` is NA, because most of `beds` NA have `baths` and `sq_feet` missing. The proportion of missing value is small (~0.3%)."
   ]
  },
  {
   "cell_type": "markdown",
   "metadata": {},
   "source": [
    "#### smoking"
   ]
  },
  {
   "cell_type": "code",
   "execution_count": 969,
   "metadata": {},
   "outputs": [
    {
     "data": {
      "text/plain": [
       "(2323, 17)"
      ]
     },
     "execution_count": 969,
     "metadata": {},
     "output_type": "execute_result"
    }
   ],
   "source": [
    "rent_v1[rent_v1['smoking'].isna()].shape"
   ]
  },
  {
   "cell_type": "code",
   "execution_count": 970,
   "metadata": {},
   "outputs": [
    {
     "data": {
      "text/plain": [
       "Non-Smoking            16147\n",
       "Smoke Free Building      278\n",
       "Smoking Allowed          142\n",
       "Negotiable                57\n",
       "Name: smoking, dtype: int64"
      ]
     },
     "execution_count": 970,
     "metadata": {},
     "output_type": "execute_result"
    }
   ],
   "source": [
    "rent_v1['smoking'].value_counts()"
   ]
  },
  {
   "cell_type": "markdown",
   "metadata": {},
   "source": [
    "Consider to fill in missing values in `smoking` with its mode ('non-smoking')."
   ]
  },
  {
   "cell_type": "markdown",
   "metadata": {},
   "source": [
    "#### cats/dogs"
   ]
  },
  {
   "cell_type": "code",
   "execution_count": 971,
   "metadata": {},
   "outputs": [
    {
     "data": {
      "text/plain": [
       "((100, 17), (100, 17), (100, 17))"
      ]
     },
     "execution_count": 971,
     "metadata": {},
     "output_type": "execute_result"
    }
   ],
   "source": [
    "rent_v1[rent_v1['cats'].isna()].shape,\\\n",
    "rent_v1[rent_v1['dogs'].isna()].shape,\\\n",
    "rent_v1[(rent_v1['cats'].isna())&(rent_v1['dogs'].isna())].shape"
   ]
  },
  {
   "cell_type": "code",
   "execution_count": 972,
   "metadata": {},
   "outputs": [
    {
     "data": {
      "text/plain": [
       "True     12819\n",
       "False     6028\n",
       "Name: cats, dtype: int64"
      ]
     },
     "execution_count": 972,
     "metadata": {},
     "output_type": "execute_result"
    }
   ],
   "source": [
    "rent_v1['cats'].value_counts()"
   ]
  },
  {
   "cell_type": "code",
   "execution_count": 973,
   "metadata": {},
   "outputs": [
    {
     "data": {
      "text/plain": [
       "True     12271\n",
       "False     6576\n",
       "Name: dogs, dtype: int64"
      ]
     },
     "execution_count": 973,
     "metadata": {},
     "output_type": "execute_result"
    }
   ],
   "source": [
    "rent_v1['dogs'].value_counts()"
   ]
  },
  {
   "cell_type": "markdown",
   "metadata": {},
   "source": [
    "Consider to drop the missing values in `cats` or `dogs` as the proportion is small (~0.5%)"
   ]
  },
  {
   "cell_type": "markdown",
   "metadata": {},
   "source": [
    "### Missing Value handling - Except sq_feet\n",
    "1. Drop the entire column of `address` as there are other features that provide similar information.\n",
    "2. Drop rows with NA values in `lease_term`, `beds`,`baths`,`cats`,`dogs`.\n",
    "3. Fill missing values in `smiking` with its mode.\n",
    "4. Due to the challenge of handling missing value in `sq_feet`, the encoding of categorical variables are needed beforehand."
   ]
  },
  {
   "cell_type": "code",
   "execution_count": 974,
   "metadata": {},
   "outputs": [],
   "source": [
    "# Drop columns: address, link, availability_date\n",
    "rent_v1.drop(columns=['address','link','availability_date'],inplace=True)"
   ]
  },
  {
   "cell_type": "code",
   "execution_count": 975,
   "metadata": {},
   "outputs": [
    {
     "data": {
      "text/plain": [
       "(18815, 14)"
      ]
     },
     "execution_count": 975,
     "metadata": {},
     "output_type": "execute_result"
    }
   ],
   "source": [
    "# Drop NA rows in lease term, beds, baths, cats, dogs\n",
    "rent_v1.drop(rent_v1[rent_v1['lease_term'].isna()].index, inplace=True)\n",
    "rent_v1.drop(rent_v1[rent_v1['baths'].isna()].index, inplace=True)\n",
    "rent_v1.drop(rent_v1[rent_v1['beds'].isna()].index, inplace=True)\n",
    "rent_v1.drop((rent_v1[(rent_v1['cats']).isna()&(rent_v1['dogs']).isna()]).index, inplace=True)\n",
    "rent_v1.shape"
   ]
  },
  {
   "cell_type": "code",
   "execution_count": 976,
   "metadata": {},
   "outputs": [
    {
     "data": {
      "text/plain": [
       "Non-Smoking            18339\n",
       "Smoke Free Building      278\n",
       "Smoking Allowed          142\n",
       "Negotiable                56\n",
       "Name: smoking, dtype: int64"
      ]
     },
     "execution_count": 976,
     "metadata": {},
     "output_type": "execute_result"
    }
   ],
   "source": [
    "# Impute smoking\n",
    "imputer_cat = SimpleImputer(strategy='most_frequent')\n",
    "rent_v1['smoking'] = imputer_cat.fit_transform(pd.DataFrame(rent_v1['smoking']))\n",
    "rent_v1['smoking'].value_counts() # Pass"
   ]
  },
  {
   "cell_type": "code",
   "execution_count": 977,
   "metadata": {},
   "outputs": [
    {
     "data": {
      "text/plain": [
       "sq_feet    True\n",
       "dtype: bool"
      ]
     },
     "execution_count": 977,
     "metadata": {},
     "output_type": "execute_result"
    }
   ],
   "source": [
    "# Sanity check\n",
    "get_null_col(rent_v1) "
   ]
  },
  {
   "cell_type": "markdown",
   "metadata": {},
   "source": [
    "### Encoding Categorical Data"
   ]
  },
  {
   "cell_type": "markdown",
   "metadata": {},
   "source": [
    "#### lease_term"
   ]
  },
  {
   "cell_type": "code",
   "execution_count": 978,
   "metadata": {},
   "outputs": [
    {
     "data": {
      "text/plain": [
       "Long Term     17658\n",
       "Negotiable      871\n",
       "Short Term      221\n",
       "12 months        62\n",
       "6 months          2\n",
       "months            1\n",
       "Name: lease_term, dtype: int64"
      ]
     },
     "execution_count": 978,
     "metadata": {},
     "output_type": "execute_result"
    }
   ],
   "source": [
    "rent_v1['lease_term'].value_counts()"
   ]
  },
  {
   "cell_type": "code",
   "execution_count": 979,
   "metadata": {},
   "outputs": [
    {
     "data": {
      "text/plain": [
       "Long Term     17720\n",
       "Negotiable      871\n",
       "Short Term      224\n",
       "Name: lease_term_1, dtype: int64"
      ]
     },
     "execution_count": 979,
     "metadata": {},
     "output_type": "execute_result"
    }
   ],
   "source": [
    "# Merge 12 months into Long-Term; months and 6 into Short Term.\n",
    "rent_v1.loc[(rent_v1['lease_term']=='Long Term')|(rent_v1['lease_term']=='12 months'), 'lease_term_1']='Long Term'\n",
    "rent_v1.loc[(rent_v1['lease_term']=='Short Term')|(rent_v1['lease_term']=='months')|(rent_v1['lease_term']=='6 months'), 'lease_term_1']='Short Term'\n",
    "rent_v1.loc[(rent_v1['lease_term']=='Negotiable'), 'lease_term_1']='Negotiable'\n",
    "rent_v1.drop(columns=['lease_term'],inplace=True)\n",
    "rent_v1['lease_term_1'].value_counts()"
   ]
  },
  {
   "cell_type": "markdown",
   "metadata": {},
   "source": [
    "#### Furnishing"
   ]
  },
  {
   "cell_type": "code",
   "execution_count": 980,
   "metadata": {},
   "outputs": [
    {
     "data": {
      "text/plain": [
       "Unfurnished                17196\n",
       "Furnished                   1374\n",
       "Negotiable                   242\n",
       "Unfurnished, Negotiable        3\n",
       "Name: furnishing, dtype: int64"
      ]
     },
     "execution_count": 980,
     "metadata": {},
     "output_type": "execute_result"
    }
   ],
   "source": [
    "rent_v1['furnishing'].value_counts()"
   ]
  },
  {
   "cell_type": "code",
   "execution_count": 981,
   "metadata": {},
   "outputs": [
    {
     "data": {
      "text/plain": [
       "Unfurnished    17196\n",
       "Furnished       1374\n",
       "Negotiable       245\n",
       "Name: furnishing_1, dtype: int64"
      ]
     },
     "execution_count": 981,
     "metadata": {},
     "output_type": "execute_result"
    }
   ],
   "source": [
    "# Combine unfurnished, negotiable into negotiable\n",
    "rent_v1.loc[(rent_v1['furnishing']=='Unfurnished'), 'furnishing_1']='Unfurnished'\n",
    "rent_v1.loc[(rent_v1['furnishing']=='Negotiable')|(rent_v1['furnishing']=='Unfurnished, Negotiable'), 'furnishing_1']='Negotiable'\n",
    "rent_v1.loc[(rent_v1['furnishing']=='Furnished'), 'furnishing_1']='Furnished'\n",
    "rent_v1.drop(columns=['furnishing'],inplace=True)\n",
    "rent_v1['furnishing_1'].value_counts()"
   ]
  },
  {
   "cell_type": "markdown",
   "metadata": {},
   "source": [
    "#### beds/baths"
   ]
  },
  {
   "cell_type": "code",
   "execution_count": 982,
   "metadata": {},
   "outputs": [
    {
     "data": {
      "text/plain": [
       "2 Beds    7205\n",
       "1 Bed     7054\n",
       "3 Beds    2552\n",
       "Studio    1334\n",
       "4 Beds     482\n",
       "5 Beds     140\n",
       "6 Beds      35\n",
       "7 Beds       8\n",
       "9 Beds       3\n",
       "8 Beds       2\n",
       "Name: beds, dtype: int64"
      ]
     },
     "execution_count": 982,
     "metadata": {},
     "output_type": "execute_result"
    }
   ],
   "source": [
    "# beds\n",
    "rent_v1['beds'].value_counts()"
   ]
  },
  {
   "cell_type": "code",
   "execution_count": 983,
   "metadata": {},
   "outputs": [
    {
     "data": {
      "text/plain": [
       "2    7205\n",
       "1    7054\n",
       "3    2552\n",
       "0    1334\n",
       "4     482\n",
       "5     140\n",
       "6      35\n",
       "7       8\n",
       "9       3\n",
       "8       2\n",
       "Name: beds, dtype: int64"
      ]
     },
     "execution_count": 983,
     "metadata": {},
     "output_type": "execute_result"
    }
   ],
   "source": [
    "# Convert Studio to 0 Bed\n",
    "rent_v1.loc[(rent_v1['beds']=='Studio'), 'beds']='0 Beds'\n",
    "rent_v1['beds'].value_counts()\n",
    "\n",
    "# Transform to integer\n",
    "rent_v1['beds']=rent_v1['beds'].str[0].astype('int')\n",
    "\n",
    "# Check\n",
    "rent_v1['beds'].value_counts() # Pass"
   ]
  },
  {
   "cell_type": "code",
   "execution_count": 984,
   "metadata": {},
   "outputs": [
    {
     "data": {
      "text/plain": [
       "1       12715\n",
       "2        3605\n",
       "2.5      1202\n",
       "1.5       692\n",
       "3.5       253\n",
       "3         249\n",
       "4          58\n",
       "4.5        14\n",
       "none        8\n",
       "5           7\n",
       "5.5         3\n",
       "6           2\n",
       "7           2\n",
       "0           2\n",
       "7.5         1\n",
       "6.5         1\n",
       "8           1\n",
       "Name: baths, dtype: int64"
      ]
     },
     "execution_count": 984,
     "metadata": {},
     "output_type": "execute_result"
    }
   ],
   "source": [
    "# Baths\n",
    "rent_v1['baths'].value_counts()"
   ]
  },
  {
   "cell_type": "code",
   "execution_count": 985,
   "metadata": {},
   "outputs": [
    {
     "data": {
      "text/plain": [
       "1.0    12715\n",
       "2.0     3605\n",
       "2.5     1202\n",
       "1.5      692\n",
       "3.5      253\n",
       "3.0      249\n",
       "4.0       58\n",
       "4.5       14\n",
       "0.0       10\n",
       "5.0        7\n",
       "5.5        3\n",
       "6.0        2\n",
       "7.0        2\n",
       "7.5        1\n",
       "6.5        1\n",
       "8.0        1\n",
       "Name: baths, dtype: int64"
      ]
     },
     "execution_count": 985,
     "metadata": {},
     "output_type": "execute_result"
    }
   ],
   "source": [
    "# Convert none to 0\n",
    "rent_v1.loc[(rent_v1['baths']=='none'), 'baths']='0'\n",
    "rent_v1['baths'].value_counts()\n",
    "\n",
    "# Transform to integer\n",
    "rent_v1['baths']=rent_v1['baths'].astype('float')\n",
    "\n",
    "# Check\n",
    "rent_v1['baths'].value_counts() # Pass"
   ]
  },
  {
   "cell_type": "markdown",
   "metadata": {},
   "source": [
    "#### Smoking\n"
   ]
  },
  {
   "cell_type": "code",
   "execution_count": 986,
   "metadata": {},
   "outputs": [
    {
     "data": {
      "text/plain": [
       "Non-Smoking            18339\n",
       "Smoke Free Building      278\n",
       "Smoking Allowed          142\n",
       "Negotiable                56\n",
       "Name: smoking, dtype: int64"
      ]
     },
     "execution_count": 986,
     "metadata": {},
     "output_type": "execute_result"
    }
   ],
   "source": [
    "rent_v1['smoking'].value_counts()"
   ]
  },
  {
   "cell_type": "code",
   "execution_count": 987,
   "metadata": {},
   "outputs": [
    {
     "data": {
      "text/plain": [
       "Non-Smoking        18617\n",
       "Smoking Allowed      142\n",
       "Negotiable            56\n",
       "Name: smoking, dtype: int64"
      ]
     },
     "execution_count": 987,
     "metadata": {},
     "output_type": "execute_result"
    }
   ],
   "source": [
    "# Put Smoking Free buikding and Non-Smoking together\n",
    "rent_v1.loc[(rent_v1['smoking']=='Smoke Free Building'), 'smoking']='Non-Smoking'\n",
    "\n",
    "# Check\n",
    "rent_v1['smoking'].value_counts() # Pass"
   ]
  },
  {
   "cell_type": "markdown",
   "metadata": {},
   "source": [
    "#### type"
   ]
  },
  {
   "cell_type": "code",
   "execution_count": 988,
   "metadata": {},
   "outputs": [
    {
     "data": {
      "text/plain": [
       "Apartment        13200\n",
       "Condo Unit        1306\n",
       "Townhouse         1050\n",
       "House             1027\n",
       "Basement          1017\n",
       "Main Floor         468\n",
       "Room For Rent      410\n",
       "Duplex             310\n",
       "Loft                15\n",
       "Acreage              8\n",
       "Vacation Home        2\n",
       "Mobile               2\n",
       "Name: type, dtype: int64"
      ]
     },
     "execution_count": 988,
     "metadata": {},
     "output_type": "execute_result"
    }
   ],
   "source": [
    "rent_v1['type'].value_counts() # Pass"
   ]
  },
  {
   "cell_type": "code",
   "execution_count": 989,
   "metadata": {},
   "outputs": [
    {
     "data": {
      "text/plain": [
       "1.0    308\n",
       "2.0     66\n",
       "1.5     32\n",
       "0.0      4\n",
       "Name: baths, dtype: int64"
      ]
     },
     "execution_count": 989,
     "metadata": {},
     "output_type": "execute_result"
    }
   ],
   "source": [
    "# Coerce all Room For Rent type with beds = 1\n",
    "rent_v1.loc[rent_v1['type']=='Room For Rent', 'beds']=1\n",
    "rent_v1[rent_v1['type']=='Room For Rent']['beds'].value_counts()\n",
    "\n",
    "# And baths <= 1\n",
    "rent_v1.loc[(rent_v1['type']=='Room For Rent')&(rent_v1['baths']>2), 'baths']=1\n",
    "rent_v1[rent_v1['type']=='Room For Rent']['baths'].value_counts()"
   ]
  },
  {
   "cell_type": "markdown",
   "metadata": {},
   "source": [
    "Need to decide whether or not to include the outliers - Loft, Acreage, Vacation Home, Mobile. This will be covered in"
   ]
  },
  {
   "cell_type": "code",
   "execution_count": 990,
   "metadata": {},
   "outputs": [],
   "source": [
    "rent_v1.reset_index(drop=True,inplace=True)"
   ]
  },
  {
   "cell_type": "markdown",
   "metadata": {},
   "source": [
    "#### Encoding - Use OneHotEncoder"
   ]
  },
  {
   "cell_type": "code",
   "execution_count": 991,
   "metadata": {},
   "outputs": [
    {
     "data": {
      "text/html": [
       "<div>\n",
       "<style scoped>\n",
       "    .dataframe tbody tr th:only-of-type {\n",
       "        vertical-align: middle;\n",
       "    }\n",
       "\n",
       "    .dataframe tbody tr th {\n",
       "        vertical-align: top;\n",
       "    }\n",
       "\n",
       "    .dataframe thead th {\n",
       "        text-align: right;\n",
       "    }\n",
       "</style>\n",
       "<table border=\"1\" class=\"dataframe\">\n",
       "  <thead>\n",
       "    <tr style=\"text-align: right;\">\n",
       "      <th></th>\n",
       "      <th>province</th>\n",
       "      <th>latitude</th>\n",
       "      <th>longitude</th>\n",
       "      <th>price</th>\n",
       "      <th>sq_feet</th>\n",
       "      <th>lease_term_1_Negotiable</th>\n",
       "      <th>lease_term_1_Short Term</th>\n",
       "      <th>furnishing_1_Negotiable</th>\n",
       "      <th>furnishing_1_Unfurnished</th>\n",
       "      <th>beds_1</th>\n",
       "      <th>...</th>\n",
       "      <th>city_Whitby</th>\n",
       "      <th>city_Whitchurch-Stouffville</th>\n",
       "      <th>city_White Rock</th>\n",
       "      <th>city_Whitecourt</th>\n",
       "      <th>city_Windsor</th>\n",
       "      <th>city_Winnipeg</th>\n",
       "      <th>city_Woodstock</th>\n",
       "      <th>city_Wyoming</th>\n",
       "      <th>city_Yellowknife</th>\n",
       "      <th>city_Yorkton</th>\n",
       "    </tr>\n",
       "  </thead>\n",
       "  <tbody>\n",
       "    <tr>\n",
       "      <th>0</th>\n",
       "      <td>Alberta</td>\n",
       "      <td>51.305962</td>\n",
       "      <td>-114.012515</td>\n",
       "      <td>2495.0</td>\n",
       "      <td>1403</td>\n",
       "      <td>0.0</td>\n",
       "      <td>0.0</td>\n",
       "      <td>0.0</td>\n",
       "      <td>1.0</td>\n",
       "      <td>0.0</td>\n",
       "      <td>...</td>\n",
       "      <td>0.0</td>\n",
       "      <td>0.0</td>\n",
       "      <td>0.0</td>\n",
       "      <td>0.0</td>\n",
       "      <td>0.0</td>\n",
       "      <td>0.0</td>\n",
       "      <td>0.0</td>\n",
       "      <td>0.0</td>\n",
       "      <td>0.0</td>\n",
       "      <td>0.0</td>\n",
       "    </tr>\n",
       "    <tr>\n",
       "      <th>1</th>\n",
       "      <td>Alberta</td>\n",
       "      <td>51.305962</td>\n",
       "      <td>-114.012515</td>\n",
       "      <td>2695.0</td>\n",
       "      <td>1496</td>\n",
       "      <td>0.0</td>\n",
       "      <td>0.0</td>\n",
       "      <td>0.0</td>\n",
       "      <td>1.0</td>\n",
       "      <td>0.0</td>\n",
       "      <td>...</td>\n",
       "      <td>0.0</td>\n",
       "      <td>0.0</td>\n",
       "      <td>0.0</td>\n",
       "      <td>0.0</td>\n",
       "      <td>0.0</td>\n",
       "      <td>0.0</td>\n",
       "      <td>0.0</td>\n",
       "      <td>0.0</td>\n",
       "      <td>0.0</td>\n",
       "      <td>0.0</td>\n",
       "    </tr>\n",
       "    <tr>\n",
       "      <th>2</th>\n",
       "      <td>Alberta</td>\n",
       "      <td>51.305962</td>\n",
       "      <td>-114.012515</td>\n",
       "      <td>2295.0</td>\n",
       "      <td>1180</td>\n",
       "      <td>0.0</td>\n",
       "      <td>0.0</td>\n",
       "      <td>0.0</td>\n",
       "      <td>1.0</td>\n",
       "      <td>0.0</td>\n",
       "      <td>...</td>\n",
       "      <td>0.0</td>\n",
       "      <td>0.0</td>\n",
       "      <td>0.0</td>\n",
       "      <td>0.0</td>\n",
       "      <td>0.0</td>\n",
       "      <td>0.0</td>\n",
       "      <td>0.0</td>\n",
       "      <td>0.0</td>\n",
       "      <td>0.0</td>\n",
       "      <td>0.0</td>\n",
       "    </tr>\n",
       "    <tr>\n",
       "      <th>3</th>\n",
       "      <td>Alberta</td>\n",
       "      <td>51.305962</td>\n",
       "      <td>-114.012515</td>\n",
       "      <td>2095.0</td>\n",
       "      <td>1403</td>\n",
       "      <td>0.0</td>\n",
       "      <td>0.0</td>\n",
       "      <td>0.0</td>\n",
       "      <td>1.0</td>\n",
       "      <td>0.0</td>\n",
       "      <td>...</td>\n",
       "      <td>0.0</td>\n",
       "      <td>0.0</td>\n",
       "      <td>0.0</td>\n",
       "      <td>0.0</td>\n",
       "      <td>0.0</td>\n",
       "      <td>0.0</td>\n",
       "      <td>0.0</td>\n",
       "      <td>0.0</td>\n",
       "      <td>0.0</td>\n",
       "      <td>0.0</td>\n",
       "    </tr>\n",
       "    <tr>\n",
       "      <th>4</th>\n",
       "      <td>Alberta</td>\n",
       "      <td>51.305962</td>\n",
       "      <td>-114.012515</td>\n",
       "      <td>2495.0</td>\n",
       "      <td>1351</td>\n",
       "      <td>0.0</td>\n",
       "      <td>0.0</td>\n",
       "      <td>0.0</td>\n",
       "      <td>1.0</td>\n",
       "      <td>0.0</td>\n",
       "      <td>...</td>\n",
       "      <td>0.0</td>\n",
       "      <td>0.0</td>\n",
       "      <td>0.0</td>\n",
       "      <td>0.0</td>\n",
       "      <td>0.0</td>\n",
       "      <td>0.0</td>\n",
       "      <td>0.0</td>\n",
       "      <td>0.0</td>\n",
       "      <td>0.0</td>\n",
       "      <td>0.0</td>\n",
       "    </tr>\n",
       "    <tr>\n",
       "      <th>...</th>\n",
       "      <td>...</td>\n",
       "      <td>...</td>\n",
       "      <td>...</td>\n",
       "      <td>...</td>\n",
       "      <td>...</td>\n",
       "      <td>...</td>\n",
       "      <td>...</td>\n",
       "      <td>...</td>\n",
       "      <td>...</td>\n",
       "      <td>...</td>\n",
       "      <td>...</td>\n",
       "      <td>...</td>\n",
       "      <td>...</td>\n",
       "      <td>...</td>\n",
       "      <td>...</td>\n",
       "      <td>...</td>\n",
       "      <td>...</td>\n",
       "      <td>...</td>\n",
       "      <td>...</td>\n",
       "      <td>...</td>\n",
       "      <td>...</td>\n",
       "    </tr>\n",
       "    <tr>\n",
       "      <th>18810</th>\n",
       "      <td>Saskatchewan</td>\n",
       "      <td>51.203024</td>\n",
       "      <td>-102.484782</td>\n",
       "      <td>920.0</td>\n",
       "      <td>400</td>\n",
       "      <td>0.0</td>\n",
       "      <td>0.0</td>\n",
       "      <td>0.0</td>\n",
       "      <td>1.0</td>\n",
       "      <td>0.0</td>\n",
       "      <td>...</td>\n",
       "      <td>0.0</td>\n",
       "      <td>0.0</td>\n",
       "      <td>0.0</td>\n",
       "      <td>0.0</td>\n",
       "      <td>0.0</td>\n",
       "      <td>0.0</td>\n",
       "      <td>0.0</td>\n",
       "      <td>0.0</td>\n",
       "      <td>0.0</td>\n",
       "      <td>1.0</td>\n",
       "    </tr>\n",
       "    <tr>\n",
       "      <th>18811</th>\n",
       "      <td>Saskatchewan</td>\n",
       "      <td>51.203024</td>\n",
       "      <td>-102.484782</td>\n",
       "      <td>1450.0</td>\n",
       "      <td>810</td>\n",
       "      <td>0.0</td>\n",
       "      <td>0.0</td>\n",
       "      <td>0.0</td>\n",
       "      <td>1.0</td>\n",
       "      <td>0.0</td>\n",
       "      <td>...</td>\n",
       "      <td>0.0</td>\n",
       "      <td>0.0</td>\n",
       "      <td>0.0</td>\n",
       "      <td>0.0</td>\n",
       "      <td>0.0</td>\n",
       "      <td>0.0</td>\n",
       "      <td>0.0</td>\n",
       "      <td>0.0</td>\n",
       "      <td>0.0</td>\n",
       "      <td>1.0</td>\n",
       "    </tr>\n",
       "    <tr>\n",
       "      <th>18812</th>\n",
       "      <td>Saskatchewan</td>\n",
       "      <td>51.202667</td>\n",
       "      <td>-102.485765</td>\n",
       "      <td>1125.0</td>\n",
       "      <td>520</td>\n",
       "      <td>0.0</td>\n",
       "      <td>0.0</td>\n",
       "      <td>0.0</td>\n",
       "      <td>1.0</td>\n",
       "      <td>1.0</td>\n",
       "      <td>...</td>\n",
       "      <td>0.0</td>\n",
       "      <td>0.0</td>\n",
       "      <td>0.0</td>\n",
       "      <td>0.0</td>\n",
       "      <td>0.0</td>\n",
       "      <td>0.0</td>\n",
       "      <td>0.0</td>\n",
       "      <td>0.0</td>\n",
       "      <td>0.0</td>\n",
       "      <td>1.0</td>\n",
       "    </tr>\n",
       "    <tr>\n",
       "      <th>18813</th>\n",
       "      <td>Saskatchewan</td>\n",
       "      <td>51.202667</td>\n",
       "      <td>-102.485765</td>\n",
       "      <td>920.0</td>\n",
       "      <td>400</td>\n",
       "      <td>0.0</td>\n",
       "      <td>0.0</td>\n",
       "      <td>0.0</td>\n",
       "      <td>1.0</td>\n",
       "      <td>0.0</td>\n",
       "      <td>...</td>\n",
       "      <td>0.0</td>\n",
       "      <td>0.0</td>\n",
       "      <td>0.0</td>\n",
       "      <td>0.0</td>\n",
       "      <td>0.0</td>\n",
       "      <td>0.0</td>\n",
       "      <td>0.0</td>\n",
       "      <td>0.0</td>\n",
       "      <td>0.0</td>\n",
       "      <td>1.0</td>\n",
       "    </tr>\n",
       "    <tr>\n",
       "      <th>18814</th>\n",
       "      <td>Saskatchewan</td>\n",
       "      <td>51.202667</td>\n",
       "      <td>-102.485765</td>\n",
       "      <td>1285.0</td>\n",
       "      <td>700</td>\n",
       "      <td>0.0</td>\n",
       "      <td>0.0</td>\n",
       "      <td>0.0</td>\n",
       "      <td>1.0</td>\n",
       "      <td>0.0</td>\n",
       "      <td>...</td>\n",
       "      <td>0.0</td>\n",
       "      <td>0.0</td>\n",
       "      <td>0.0</td>\n",
       "      <td>0.0</td>\n",
       "      <td>0.0</td>\n",
       "      <td>0.0</td>\n",
       "      <td>0.0</td>\n",
       "      <td>0.0</td>\n",
       "      <td>0.0</td>\n",
       "      <td>1.0</td>\n",
       "    </tr>\n",
       "  </tbody>\n",
       "</table>\n",
       "<p>18815 rows × 311 columns</p>\n",
       "</div>"
      ],
      "text/plain": [
       "           province   latitude   longitude   price sq_feet  \\\n",
       "0           Alberta  51.305962 -114.012515  2495.0    1403   \n",
       "1           Alberta  51.305962 -114.012515  2695.0    1496   \n",
       "2           Alberta  51.305962 -114.012515  2295.0    1180   \n",
       "3           Alberta  51.305962 -114.012515  2095.0    1403   \n",
       "4           Alberta  51.305962 -114.012515  2495.0    1351   \n",
       "...             ...        ...         ...     ...     ...   \n",
       "18810  Saskatchewan  51.203024 -102.484782   920.0     400   \n",
       "18811  Saskatchewan  51.203024 -102.484782  1450.0     810   \n",
       "18812  Saskatchewan  51.202667 -102.485765  1125.0     520   \n",
       "18813  Saskatchewan  51.202667 -102.485765   920.0     400   \n",
       "18814  Saskatchewan  51.202667 -102.485765  1285.0     700   \n",
       "\n",
       "       lease_term_1_Negotiable  lease_term_1_Short Term  \\\n",
       "0                          0.0                      0.0   \n",
       "1                          0.0                      0.0   \n",
       "2                          0.0                      0.0   \n",
       "3                          0.0                      0.0   \n",
       "4                          0.0                      0.0   \n",
       "...                        ...                      ...   \n",
       "18810                      0.0                      0.0   \n",
       "18811                      0.0                      0.0   \n",
       "18812                      0.0                      0.0   \n",
       "18813                      0.0                      0.0   \n",
       "18814                      0.0                      0.0   \n",
       "\n",
       "       furnishing_1_Negotiable  furnishing_1_Unfurnished  beds_1  ...  \\\n",
       "0                          0.0                       1.0     0.0  ...   \n",
       "1                          0.0                       1.0     0.0  ...   \n",
       "2                          0.0                       1.0     0.0  ...   \n",
       "3                          0.0                       1.0     0.0  ...   \n",
       "4                          0.0                       1.0     0.0  ...   \n",
       "...                        ...                       ...     ...  ...   \n",
       "18810                      0.0                       1.0     0.0  ...   \n",
       "18811                      0.0                       1.0     0.0  ...   \n",
       "18812                      0.0                       1.0     1.0  ...   \n",
       "18813                      0.0                       1.0     0.0  ...   \n",
       "18814                      0.0                       1.0     0.0  ...   \n",
       "\n",
       "       city_Whitby  city_Whitchurch-Stouffville  city_White Rock  \\\n",
       "0              0.0                          0.0              0.0   \n",
       "1              0.0                          0.0              0.0   \n",
       "2              0.0                          0.0              0.0   \n",
       "3              0.0                          0.0              0.0   \n",
       "4              0.0                          0.0              0.0   \n",
       "...            ...                          ...              ...   \n",
       "18810          0.0                          0.0              0.0   \n",
       "18811          0.0                          0.0              0.0   \n",
       "18812          0.0                          0.0              0.0   \n",
       "18813          0.0                          0.0              0.0   \n",
       "18814          0.0                          0.0              0.0   \n",
       "\n",
       "       city_Whitecourt  city_Windsor  city_Winnipeg  city_Woodstock  \\\n",
       "0                  0.0           0.0            0.0             0.0   \n",
       "1                  0.0           0.0            0.0             0.0   \n",
       "2                  0.0           0.0            0.0             0.0   \n",
       "3                  0.0           0.0            0.0             0.0   \n",
       "4                  0.0           0.0            0.0             0.0   \n",
       "...                ...           ...            ...             ...   \n",
       "18810              0.0           0.0            0.0             0.0   \n",
       "18811              0.0           0.0            0.0             0.0   \n",
       "18812              0.0           0.0            0.0             0.0   \n",
       "18813              0.0           0.0            0.0             0.0   \n",
       "18814              0.0           0.0            0.0             0.0   \n",
       "\n",
       "       city_Wyoming  city_Yellowknife  city_Yorkton  \n",
       "0               0.0               0.0           0.0  \n",
       "1               0.0               0.0           0.0  \n",
       "2               0.0               0.0           0.0  \n",
       "3               0.0               0.0           0.0  \n",
       "4               0.0               0.0           0.0  \n",
       "...             ...               ...           ...  \n",
       "18810           0.0               0.0           1.0  \n",
       "18811           0.0               0.0           1.0  \n",
       "18812           0.0               0.0           1.0  \n",
       "18813           0.0               0.0           1.0  \n",
       "18814           0.0               0.0           1.0  \n",
       "\n",
       "[18815 rows x 311 columns]"
      ]
     },
     "execution_count": 991,
     "metadata": {},
     "output_type": "execute_result"
    }
   ],
   "source": [
    "def encoding(v1):\n",
    "    encoder = OneHotEncoder(drop='first', sparse_output=False)\n",
    "\n",
    "    encoded = encoder.fit_transform(v1[['lease_term_1', 'furnishing_1', 'beds','baths','smoking','type','cats','dogs','city']])\n",
    "\n",
    "    v2 = pd.DataFrame(encoded, columns = encoder.get_feature_names_out(['lease_term_1', 'furnishing_1', 'beds','baths','smoking','type','cats','dogs','city']))\n",
    "    v3 = v1.drop(columns=['lease_term_1', 'furnishing_1', 'beds','baths','smoking','type','cats','dogs','city']).join(v2)\n",
    "\n",
    "    return v3\n",
    "\n",
    "rent_v3 = encoding(rent_v1)\n",
    "rent_v3"
   ]
  },
  {
   "cell_type": "markdown",
   "metadata": {},
   "source": [
    "### Missing value handling - sq_feet\n",
    "Missing value in sq_feet will be filled by means based on `baths` column."
   ]
  },
  {
   "cell_type": "code",
   "execution_count": 992,
   "metadata": {},
   "outputs": [
    {
     "data": {
      "text/plain": [
       "3586"
      ]
     },
     "execution_count": 992,
     "metadata": {},
     "output_type": "execute_result"
    }
   ],
   "source": [
    "# Convert sq_feet into numeric\n",
    "# Note that it will coerce str with letters into Null\n",
    "rent_v1['sq_feet_num'] = pd.to_numeric(rent_v1['sq_feet'], errors='coerce')\n",
    "\n",
    "# Coerce the sq_feet == 0 to be None as the data is invalid\n",
    "rent_v1.loc[(rent_v1['sq_feet_num']==0), 'sq_feet_num']=None\n",
    "\n",
    "# Check\n",
    "rent_v1['sq_feet_num'].isna().sum()"
   ]
  },
  {
   "cell_type": "markdown",
   "metadata": {},
   "source": [
    "Choose the best variable to be grouped with."
   ]
  },
  {
   "cell_type": "code",
   "execution_count": 993,
   "metadata": {},
   "outputs": [
    {
     "data": {
      "image/png": "[encoded data removed]",
      "text/plain": [
       "<Figure size 2000x600 with 3 Axes>"
      ]
     },
     "metadata": {},
     "output_type": "display_data"
    }
   ],
   "source": [
    "# Visualization\n",
    "figa, (axa, axb, axc)=plt.subplots(ncols=3, figsize=(20,6))\n",
    "sns.scatterplot(ax=axa, x=rent_v1['beds'], y=rent_v1['sq_feet_num'])\n",
    "sns.scatterplot(ax=axb, x=rent_v1['baths'], y=rent_v1['sq_feet_num'])\n",
    "sns.scatterplot(ax=axc, x=rent_v1['type'], y=rent_v1['sq_feet_num'])\n",
    "\n",
    "axc.tick_params(axis='x',rotation=60)\n",
    "figa.suptitle('Correlation of sqft with beds, baths and type', fontsize=16);"
   ]
  },
  {
   "cell_type": "code",
   "execution_count": 994,
   "metadata": {},
   "outputs": [],
   "source": [
    "# Define the imputer\n",
    "imputer_n = SimpleImputer(strategy='mean')\n",
    "\n",
    "# Function to apply imputation based on categories\n",
    "def impute_group_mean(df):\n",
    "    # Reshape data to use SimpleImputer\n",
    "    reshaped_values = df['sq_feet_num'].values.reshape(-1, 1)\n",
    "    # Fit and transform the data\n",
    "    df['sq_feet_num'] = imputer_n.fit_transform(reshaped_values)\n",
    "    return df"
   ]
  },
  {
   "cell_type": "markdown",
   "metadata": {},
   "source": [
    "The above visualization showed that `baths` is the best indicator to sq_feet."
   ]
  },
  {
   "cell_type": "code",
   "execution_count": 995,
   "metadata": {},
   "outputs": [
    {
     "data": {
      "text/plain": [
       "baths\n",
       "0.0      887.857143\n",
       "1.0      722.820059\n",
       "1.5     1103.708360\n",
       "2.0     1010.286130\n",
       "2.5     1590.190159\n",
       "3.0     1789.720430\n",
       "3.5     2278.491892\n",
       "4.0     2406.093023\n",
       "4.5     2989.444444\n",
       "5.0     3264.666667\n",
       "5.5     3615.000000\n",
       "6.0     4675.000000\n",
       "6.5     4000.000000\n",
       "7.0     4500.000000\n",
       "7.5    11700.000000\n",
       "Name: sq_feet_num, dtype: float64"
      ]
     },
     "execution_count": 995,
     "metadata": {},
     "output_type": "execute_result"
    }
   ],
   "source": [
    "rent_v1.groupby(['baths'])['sq_feet_num'].mean()\n",
    "# Good stand, no missing value"
   ]
  },
  {
   "cell_type": "code",
   "execution_count": 996,
   "metadata": {},
   "outputs": [
    {
     "data": {
      "text/html": [
       "<div>\n",
       "<style scoped>\n",
       "    .dataframe tbody tr th:only-of-type {\n",
       "        vertical-align: middle;\n",
       "    }\n",
       "\n",
       "    .dataframe tbody tr th {\n",
       "        vertical-align: top;\n",
       "    }\n",
       "\n",
       "    .dataframe thead th {\n",
       "        text-align: right;\n",
       "    }\n",
       "</style>\n",
       "<table border=\"1\" class=\"dataframe\">\n",
       "  <thead>\n",
       "    <tr style=\"text-align: right;\">\n",
       "      <th></th>\n",
       "      <th>city</th>\n",
       "      <th>province</th>\n",
       "      <th>latitude</th>\n",
       "      <th>longitude</th>\n",
       "      <th>type</th>\n",
       "      <th>price</th>\n",
       "      <th>beds</th>\n",
       "      <th>baths</th>\n",
       "      <th>sq_feet</th>\n",
       "      <th>smoking</th>\n",
       "      <th>cats</th>\n",
       "      <th>dogs</th>\n",
       "      <th>lease_term_1</th>\n",
       "      <th>furnishing_1</th>\n",
       "      <th>sq_feet_num</th>\n",
       "    </tr>\n",
       "  </thead>\n",
       "  <tbody>\n",
       "    <tr>\n",
       "      <th>2511</th>\n",
       "      <td>Calgary</td>\n",
       "      <td>Alberta</td>\n",
       "      <td>51.042501</td>\n",
       "      <td>-114.121147</td>\n",
       "      <td>Townhouse</td>\n",
       "      <td>3300.0</td>\n",
       "      <td>2</td>\n",
       "      <td>2.5</td>\n",
       "      <td>NaN</td>\n",
       "      <td>Non-Smoking</td>\n",
       "      <td>False</td>\n",
       "      <td>False</td>\n",
       "      <td>Long Term</td>\n",
       "      <td>Unfurnished</td>\n",
       "      <td>1590.190159</td>\n",
       "    </tr>\n",
       "    <tr>\n",
       "      <th>16134</th>\n",
       "      <td>Côte Saint-Luc</td>\n",
       "      <td>Quebec</td>\n",
       "      <td>45.490019</td>\n",
       "      <td>-73.651972</td>\n",
       "      <td>Apartment</td>\n",
       "      <td>2535.0</td>\n",
       "      <td>1</td>\n",
       "      <td>1.5</td>\n",
       "      <td>850</td>\n",
       "      <td>Non-Smoking</td>\n",
       "      <td>False</td>\n",
       "      <td>False</td>\n",
       "      <td>Long Term</td>\n",
       "      <td>Unfurnished</td>\n",
       "      <td>850.000000</td>\n",
       "    </tr>\n",
       "    <tr>\n",
       "      <th>13634</th>\n",
       "      <td>Toronto</td>\n",
       "      <td>Ontario</td>\n",
       "      <td>43.651404</td>\n",
       "      <td>-79.357130</td>\n",
       "      <td>Apartment</td>\n",
       "      <td>3627.0</td>\n",
       "      <td>2</td>\n",
       "      <td>2.0</td>\n",
       "      <td>794</td>\n",
       "      <td>Non-Smoking</td>\n",
       "      <td>True</td>\n",
       "      <td>True</td>\n",
       "      <td>Long Term</td>\n",
       "      <td>Unfurnished</td>\n",
       "      <td>794.000000</td>\n",
       "    </tr>\n",
       "    <tr>\n",
       "      <th>8458</th>\n",
       "      <td>New Westminster</td>\n",
       "      <td>British Columbia</td>\n",
       "      <td>49.208522</td>\n",
       "      <td>-122.925965</td>\n",
       "      <td>Apartment</td>\n",
       "      <td>2195.0</td>\n",
       "      <td>1</td>\n",
       "      <td>1.0</td>\n",
       "      <td>525</td>\n",
       "      <td>Non-Smoking</td>\n",
       "      <td>True</td>\n",
       "      <td>True</td>\n",
       "      <td>Long Term</td>\n",
       "      <td>Unfurnished</td>\n",
       "      <td>525.000000</td>\n",
       "    </tr>\n",
       "    <tr>\n",
       "      <th>4172</th>\n",
       "      <td>Calgary</td>\n",
       "      <td>Alberta</td>\n",
       "      <td>51.164525</td>\n",
       "      <td>-113.964405</td>\n",
       "      <td>Apartment</td>\n",
       "      <td>2200.0</td>\n",
       "      <td>2</td>\n",
       "      <td>2.0</td>\n",
       "      <td>950</td>\n",
       "      <td>Non-Smoking</td>\n",
       "      <td>True</td>\n",
       "      <td>True</td>\n",
       "      <td>Negotiable</td>\n",
       "      <td>Unfurnished</td>\n",
       "      <td>950.000000</td>\n",
       "    </tr>\n",
       "  </tbody>\n",
       "</table>\n",
       "</div>"
      ],
      "text/plain": [
       "                  city          province   latitude   longitude       type  \\\n",
       "2511           Calgary           Alberta  51.042501 -114.121147  Townhouse   \n",
       "16134   Côte Saint-Luc            Quebec  45.490019  -73.651972  Apartment   \n",
       "13634          Toronto           Ontario  43.651404  -79.357130  Apartment   \n",
       "8458   New Westminster  British Columbia  49.208522 -122.925965  Apartment   \n",
       "4172           Calgary           Alberta  51.164525 -113.964405  Apartment   \n",
       "\n",
       "        price  beds  baths sq_feet      smoking   cats   dogs lease_term_1  \\\n",
       "2511   3300.0     2    2.5     NaN  Non-Smoking  False  False    Long Term   \n",
       "16134  2535.0     1    1.5     850  Non-Smoking  False  False    Long Term   \n",
       "13634  3627.0     2    2.0     794  Non-Smoking   True   True    Long Term   \n",
       "8458   2195.0     1    1.0     525  Non-Smoking   True   True    Long Term   \n",
       "4172   2200.0     2    2.0     950  Non-Smoking   True   True   Negotiable   \n",
       "\n",
       "      furnishing_1  sq_feet_num  \n",
       "2511   Unfurnished  1590.190159  \n",
       "16134  Unfurnished   850.000000  \n",
       "13634  Unfurnished   794.000000  \n",
       "8458   Unfurnished   525.000000  \n",
       "4172   Unfurnished   950.000000  "
      ]
     },
     "execution_count": 996,
     "metadata": {},
     "output_type": "execute_result"
    }
   ],
   "source": [
    "# Imputated based on different baths\n",
    "# Note that this variable is called rent_imputed_beds because baths is a feature used at the last minute\n",
    "rent_imputed_beds= rent_v1.groupby(['baths']).apply(impute_group_mean)\n",
    "rent_imputed_beds.sample(5)"
   ]
  },
  {
   "cell_type": "code",
   "execution_count": 997,
   "metadata": {},
   "outputs": [],
   "source": [
    "# There is formatting issue in sq_feet\n",
    "# Eyeball check to see if the imputation makes sense\n",
    "import re\n",
    "\n",
    "def num(s):\n",
    "    if not isinstance(s, str):\n",
    "        return False\n",
    "    if s.strip() == \"\":\n",
    "        return False\n",
    "    \n",
    "    pattern = re.compile(r'[a-zA-Z!@#$%^&*()_+{}\\[\\]:;\"\\'<>,/?|\\\\`~]')\n",
    "    return bool(pattern.match(s))"
   ]
  },
  {
   "cell_type": "code",
   "execution_count": 998,
   "metadata": {},
   "outputs": [
    {
     "data": {
      "text/html": [
       "<div>\n",
       "<style scoped>\n",
       "    .dataframe tbody tr th:only-of-type {\n",
       "        vertical-align: middle;\n",
       "    }\n",
       "\n",
       "    .dataframe tbody tr th {\n",
       "        vertical-align: top;\n",
       "    }\n",
       "\n",
       "    .dataframe thead th {\n",
       "        text-align: right;\n",
       "    }\n",
       "</style>\n",
       "<table border=\"1\" class=\"dataframe\">\n",
       "  <thead>\n",
       "    <tr style=\"text-align: right;\">\n",
       "      <th></th>\n",
       "      <th>beds</th>\n",
       "      <th>baths</th>\n",
       "      <th>type</th>\n",
       "      <th>sq_feet</th>\n",
       "      <th>sq_feet_num</th>\n",
       "    </tr>\n",
       "  </thead>\n",
       "  <tbody>\n",
       "    <tr>\n",
       "      <th>142</th>\n",
       "      <td>3</td>\n",
       "      <td>2.5</td>\n",
       "      <td>Townhouse</td>\n",
       "      <td>approx. 1400</td>\n",
       "      <td>1590.190159</td>\n",
       "    </tr>\n",
       "    <tr>\n",
       "      <th>772</th>\n",
       "      <td>2</td>\n",
       "      <td>1.0</td>\n",
       "      <td>Basement</td>\n",
       "      <td>~1000</td>\n",
       "      <td>722.820059</td>\n",
       "    </tr>\n",
       "    <tr>\n",
       "      <th>885</th>\n",
       "      <td>1</td>\n",
       "      <td>1.0</td>\n",
       "      <td>Townhouse</td>\n",
       "      <td>Large</td>\n",
       "      <td>722.820059</td>\n",
       "    </tr>\n",
       "    <tr>\n",
       "      <th>960</th>\n",
       "      <td>2</td>\n",
       "      <td>1.0</td>\n",
       "      <td>Main Floor</td>\n",
       "      <td>Approximately 700sf</td>\n",
       "      <td>722.820059</td>\n",
       "    </tr>\n",
       "    <tr>\n",
       "      <th>983</th>\n",
       "      <td>3</td>\n",
       "      <td>2.5</td>\n",
       "      <td>House</td>\n",
       "      <td>approx 2200</td>\n",
       "      <td>1590.190159</td>\n",
       "    </tr>\n",
       "  </tbody>\n",
       "</table>\n",
       "</div>"
      ],
      "text/plain": [
       "     beds  baths        type              sq_feet  sq_feet_num\n",
       "142     3    2.5   Townhouse         approx. 1400  1590.190159\n",
       "772     2    1.0    Basement                ~1000   722.820059\n",
       "885     1    1.0   Townhouse                Large   722.820059\n",
       "960     2    1.0  Main Floor  Approximately 700sf   722.820059\n",
       "983     3    2.5       House          approx 2200  1590.190159"
      ]
     },
     "execution_count": 998,
     "metadata": {},
     "output_type": "execute_result"
    }
   ],
   "source": [
    "# rows with wrongly formatted sq_feet\n",
    "f_issue=rent_imputed_beds[rent_imputed_beds['sq_feet'].apply(num)][['beds','baths','type','sq_feet','sq_feet_num']]\n",
    "f_issue.head()"
   ]
  },
  {
   "cell_type": "markdown",
   "metadata": {},
   "source": [
    "Quick eyeballing showed that it is a good estimation. "
   ]
  },
  {
   "cell_type": "code",
   "execution_count": 999,
   "metadata": {},
   "outputs": [],
   "source": [
    "rent_v3=rent_v3.join(rent_imputed_beds['sq_feet_num'])"
   ]
  },
  {
   "cell_type": "code",
   "execution_count": 1000,
   "metadata": {},
   "outputs": [],
   "source": [
    "rent_v3.drop(columns='sq_feet',inplace=True)"
   ]
  },
  {
   "cell_type": "markdown",
   "metadata": {},
   "source": [
    "### Overview"
   ]
  },
  {
   "cell_type": "markdown",
   "metadata": {},
   "source": [
    "`rent_v3` is the cleaned dataset that will be used in the `model1` creation."
   ]
  },
  {
   "cell_type": "code",
   "execution_count": 1001,
   "metadata": {},
   "outputs": [
    {
     "data": {
      "image/png": "[encoded data removed]",
      "text/plain": [
       "<Figure size 1700x500 with 3 Axes>"
      ]
     },
     "metadata": {},
     "output_type": "display_data"
    }
   ],
   "source": [
    "# Visulization of price\n",
    "# Distribution in price\n",
    "fig4, (ax4,ax5, ax6) = plt.subplots(ncols=3, figsize=(17,5))\n",
    "\n",
    "sns.histplot(ax=ax4, data=rent_v3[rent_v3['price']<=5000], x='price', bins=30)\n",
    "ax4.set_title(\"Price Distribution, <=5000\")\n",
    "\n",
    "sns.histplot(ax=ax5, data=rent_v3[(rent_v3['price']>5000)&(rent_v3['price']<=10000)], x='price', bins=30)\n",
    "ax5.set_title(\"Price Distribution, 5000~10000\")\n",
    "\n",
    "sns.histplot(ax=ax6, data=rent_v3[rent_v3['price']>10000], x='price', bins=30)\n",
    "ax6.set_title(\"Price Distribution, >10000\");"
   ]
  },
  {
   "cell_type": "code",
   "execution_count": 1002,
   "metadata": {},
   "outputs": [
    {
     "data": {
      "image/png": "[encoded data removed]",
      "text/plain": [
       "<Figure size 1500x500 with 2 Axes>"
      ]
     },
     "metadata": {},
     "output_type": "display_data"
    }
   ],
   "source": [
    "# Visualization of sq_feet\n",
    "fig7, (ax7,ax8) = plt.subplots(ncols=2, figsize=(15,5))\n",
    "\n",
    "sns.histplot(ax=ax7, data=rent_v3[rent_v3['sq_feet_num']<=3000], x='sq_feet_num', bins=30)\n",
    "ax7.set_title(\"Size Distribution, <=3000\")\n",
    "\n",
    "sns.histplot(ax=ax8, data=rent_v3[rent_v3['sq_feet_num']>3000], x='sq_feet_num', bins=30)\n",
    "ax8.set_title(\"Size Distribution, >5000\");"
   ]
  },
  {
   "cell_type": "code",
   "execution_count": 1003,
   "metadata": {},
   "outputs": [
    {
     "data": {
      "image/png": "[encoded data removed]",
      "text/plain": [
       "<Figure size 640x480 with 1 Axes>"
      ]
     },
     "metadata": {},
     "output_type": "display_data"
    }
   ],
   "source": [
    "# Visualzation\n",
    "figb, axb = plt.subplots()\n",
    "\n",
    "sns.scatterplot(ax=axb, x=rent_v3[rent_v3['price']<10000]['sq_feet_num'], y=rent_v3[rent_v3['price']<10000]['price'])\n",
    "\n",
    "axb.set_title('price vs sq_feet_num');"
   ]
  },
  {
   "cell_type": "markdown",
   "metadata": {},
   "source": [
    "Insights:\n",
    "1. Outliers in `price` and `sq_feet_num` are noticed, but they will be handled and tested later.\n",
    "2. It is clear in the `figb` that:\n",
    "\n",
    "    a. `price` positively related with `sq_feet_num`, and the trend is linear.\n",
    "    \n",
    "    b. There are some other features that can determine the look of the formula."
   ]
  },
  {
   "cell_type": "markdown",
   "metadata": {},
   "source": [
    "---\n",
    "## Model1 Creation"
   ]
  },
  {
   "cell_type": "markdown",
   "metadata": {},
   "source": [
    "All features will be used in `rent_v3` except for `longitude`, `latitude` and `province` as city encode approximately the same info."
   ]
  },
  {
   "cell_type": "code",
   "execution_count": 1004,
   "metadata": {},
   "outputs": [],
   "source": [
    "def modeling(model, X, y, test_time):\n",
    "     MAE = []\n",
    "     MSE = []\n",
    "     RMSE = []\n",
    "     R2 = []\n",
    "     trail = []\n",
    "     for i in range(1,test_time+1):\n",
    "        # Train test split\n",
    "        X_train, X_test, y_train, y_test = train_test_split(X, y, test_size = 0.15)\n",
    "\n",
    "        # Scaling\n",
    "        scaler = RobustScaler()\n",
    "        X_train['sq_feet_num'] = scaler.fit_transform(pd.DataFrame(X_train['sq_feet_num']))\n",
    "        X_test['sq_feet_num'] = scaler.transform(pd.DataFrame(X_test['sq_feet_num']))\n",
    "\n",
    "        # Train\n",
    "        model.fit(X_train, y_train)\n",
    "\n",
    "        # Test\n",
    "        y_pred = model.predict(X_test)\n",
    "\n",
    "        # Evaluation\n",
    "        MAE.append(mean_absolute_error(y_test, y_pred))\n",
    "        MSE.append(mean_squared_error(y_test, y_pred))\n",
    "        RMSE.append(np.sqrt(mean_squared_error(y_test, y_pred)))\n",
    "        R2.append(model.score(X_test,y_test))\n",
    "        trail.append(i)\n",
    "\n",
    "     # Evaluation df\n",
    "     eval_df = pd.DataFrame({'trail':trail,'MAE':MAE,'MSE':MSE,'RMSE':RMSE,'R2':R2})\n",
    "\n",
    "     return eval_df"
   ]
  },
  {
   "cell_type": "markdown",
   "metadata": {},
   "source": [
    "### Model 1a - Lasso"
   ]
  },
  {
   "cell_type": "code",
   "execution_count": 1005,
   "metadata": {},
   "outputs": [
    {
     "data": {
      "text/plain": [
       "trail         5.500000\n",
       "MAE         380.155396\n",
       "MSE      425146.212774\n",
       "RMSE        647.462820\n",
       "R2            0.506335\n",
       "dtype: float64"
      ]
     },
     "execution_count": 1005,
     "metadata": {},
     "output_type": "execute_result"
    }
   ],
   "source": [
    "# Separate features from target\n",
    "X_1 = rent_v3.drop(columns=['longitude','province','price','latitude'])\n",
    "y_1 = rent_v3['price']\n",
    "\n",
    "# Model initiation\n",
    "model1a = LassoCV(eps=0.01, n_alphas=100)\n",
    "\n",
    "# test\n",
    "model1a_metrics = modeling(model1a, X_1, y_1, 10)\n",
    "model1a_metrics.mean()"
   ]
  },
  {
   "cell_type": "markdown",
   "metadata": {},
   "source": [
    "### Model 1b - Ridge"
   ]
  },
  {
   "cell_type": "code",
   "execution_count": 1006,
   "metadata": {},
   "outputs": [
    {
     "data": {
      "text/plain": [
       "trail         5.500000\n",
       "MAE         310.940242\n",
       "MSE      364228.544660\n",
       "RMSE        597.155325\n",
       "R2            0.599308\n",
       "dtype: float64"
      ]
     },
     "execution_count": 1006,
     "metadata": {},
     "output_type": "execute_result"
    }
   ],
   "source": [
    "# Model initialization\n",
    "cv = KFold(n_splits=5)\n",
    "model1b = RidgeCV((0.1, 1.0, 10.0), scoring='neg_mean_absolute_error', cv=5) \n",
    "\n",
    "# Model evaluation\n",
    "model1b_metrics = modeling(model1b, X_1, y_1, 10)\n",
    "model1b_metrics.mean()"
   ]
  },
  {
   "cell_type": "markdown",
   "metadata": {},
   "source": [
    "`Ridge` outperformed `Lasso` based on the average R2 score. "
   ]
  },
  {
   "cell_type": "markdown",
   "metadata": {},
   "source": [
    "---\n",
    "## Model1 Modified - outlier handling"
   ]
  },
  {
   "cell_type": "markdown",
   "metadata": {},
   "source": [
    "#### type "
   ]
  },
  {
   "cell_type": "code",
   "execution_count": 1007,
   "metadata": {},
   "outputs": [
    {
     "data": {
      "text/plain": [
       "Apartment        13200\n",
       "Condo Unit        1306\n",
       "Townhouse         1050\n",
       "House             1027\n",
       "Basement          1017\n",
       "Main Floor         468\n",
       "Room For Rent      410\n",
       "Duplex             310\n",
       "Loft                15\n",
       "Acreage              8\n",
       "Vacation Home        2\n",
       "Mobile               2\n",
       "Name: type, dtype: int64"
      ]
     },
     "execution_count": 1007,
     "metadata": {},
     "output_type": "execute_result"
    }
   ],
   "source": [
    "#Drop type == loft, acreage, vacation home, mobile\n",
    "# Recall data\n",
    "rent_imputed_beds['type'].value_counts()"
   ]
  },
  {
   "cell_type": "code",
   "execution_count": 1008,
   "metadata": {},
   "outputs": [
    {
     "data": {
      "text/plain": [
       "Apartment        13200\n",
       "Condo Unit        1306\n",
       "Townhouse         1050\n",
       "House             1027\n",
       "Basement          1017\n",
       "Main Floor         468\n",
       "Room For Rent      410\n",
       "Duplex             310\n",
       "Name: type, dtype: int64"
      ]
     },
     "execution_count": 1008,
     "metadata": {},
     "output_type": "execute_result"
    }
   ],
   "source": [
    "# Drop\n",
    "rent_v4 = rent_imputed_beds.drop(rent_imputed_beds[rent_imputed_beds['type'].isin(['Loft','Acreage','Vacation Home','Mobile'])].index).reset_index(drop=True)\n",
    "\n",
    "# Check\n",
    "rent_v4['type'].value_counts() # Pass\n"
   ]
  },
  {
   "cell_type": "markdown",
   "metadata": {},
   "source": [
    "#### sq_feet_num\n",
    "To perform a log transformation so that the impact of the outliers may be reduced."
   ]
  },
  {
   "cell_type": "code",
   "execution_count": 1009,
   "metadata": {},
   "outputs": [
    {
     "data": {
      "image/png": "[encoded data removed]",
      "text/plain": [
       "<Figure size 1800x600 with 1 Axes>"
      ]
     },
     "metadata": {},
     "output_type": "display_data"
    }
   ],
   "source": [
    "# Visualization\n",
    "fig10, ax10 = plt.subplots(figsize=(18,6))\n",
    "\n",
    "sns.boxplot(ax=ax10, x=rent_v4['type'], y=rent_v4['sq_feet_num'])\n",
    "\n",
    "ax10.set_title('Original Size Distribution');"
   ]
  },
  {
   "cell_type": "markdown",
   "metadata": {},
   "source": [
    "Note that there are very small values, which might be invalid. Here, a size below 100 sq feet is considered an invalid entry for sq_feet_num, as 100 sq feet is smaller than a typical parking space, which is essentially a cell. Since the regression model is sensitive to outliers, these points need further imputation."
   ]
  },
  {
   "cell_type": "code",
   "execution_count": 1010,
   "metadata": {},
   "outputs": [
    {
     "data": {
      "text/plain": [
       "(22, 15)"
      ]
     },
     "execution_count": 1010,
     "metadata": {},
     "output_type": "execute_result"
    }
   ],
   "source": [
    "# Potental Invalid data\n",
    "rent_v4[rent_v4['sq_feet_num']<=100].shape"
   ]
  },
  {
   "cell_type": "code",
   "execution_count": 1011,
   "metadata": {},
   "outputs": [],
   "source": [
    "# Imputation\n",
    "rent_v4.loc[(rent_v4['sq_feet_num']<=100), 'sq_feet_num']=None\n",
    "rent_v4=rent_v4.groupby(['baths']).apply(impute_group_mean)"
   ]
  },
  {
   "cell_type": "code",
   "execution_count": 1012,
   "metadata": {},
   "outputs": [
    {
     "data": {
      "image/png": "[encoded data removed]",
      "text/plain": [
       "<Figure size 1800x600 with 1 Axes>"
      ]
     },
     "metadata": {},
     "output_type": "display_data"
    }
   ],
   "source": [
    "# Visualzaition after imputing 'invalid' values\n",
    "fig12, ax12 = plt.subplots(figsize=(18,6))\n",
    "sns.boxplot(ax=ax12, x=rent_v4['type'], y=rent_v4['sq_feet_num'])\n",
    "ax12.set_title('Imputed Size Distribution');"
   ]
  },
  {
   "cell_type": "code",
   "execution_count": 1013,
   "metadata": {},
   "outputs": [
    {
     "data": {
      "image/png": "[encoded data removed]",
      "text/plain": [
       "<Figure size 1800x600 with 1 Axes>"
      ]
     },
     "metadata": {},
     "output_type": "display_data"
    }
   ],
   "source": [
    "# Visualzaition after log transformation\n",
    "fig11, ax11 = plt.subplots(figsize=(18,6))\n",
    "sns.boxplot(ax=ax11, x=rent_v4['type'], y=np.log(rent_v4['sq_feet_num']))\n",
    "ax11.set_title('Original Size Distribution');"
   ]
  },
  {
   "cell_type": "code",
   "execution_count": 1014,
   "metadata": {},
   "outputs": [],
   "source": [
    "# log transformation\n",
    "rent_v4['sq_feet_num']=np.log(rent_v4['sq_feet_num'])"
   ]
  },
  {
   "cell_type": "code",
   "execution_count": 1015,
   "metadata": {},
   "outputs": [],
   "source": [
    "# Encoding\n",
    "rent_v4.drop(columns='sq_feet',inplace=True)\n",
    "rent_v5 = encoding(rent_v4)\n",
    "\n",
    "# Feature separated from target\n",
    "X_1_m = rent_v5.drop(columns=['longitude','province','price','latitude'])\n",
    "y_1_m = rent_v5['price']"
   ]
  },
  {
   "cell_type": "code",
   "execution_count": 1016,
   "metadata": {},
   "outputs": [
    {
     "data": {
      "text/plain": [
       "trail         5.500000\n",
       "MAE         371.642493\n",
       "MSE      377219.491547\n",
       "RMSE        611.572046\n",
       "R2            0.543146\n",
       "dtype: float64"
      ]
     },
     "execution_count": 1016,
     "metadata": {},
     "output_type": "execute_result"
    }
   ],
   "source": [
    "# Test lasso\n",
    "model1a_metrics_m = modeling(model1a, X_1_m, y_1_m, 10)\n",
    "model1a_metrics_m.mean()"
   ]
  },
  {
   "cell_type": "code",
   "execution_count": 1017,
   "metadata": {},
   "outputs": [
    {
     "data": {
      "text/plain": [
       "trail         5.500000\n",
       "MAE         309.227168\n",
       "MSE      334367.367357\n",
       "RMSE        570.177345\n",
       "R2            0.610410\n",
       "dtype: float64"
      ]
     },
     "execution_count": 1017,
     "metadata": {},
     "output_type": "execute_result"
    }
   ],
   "source": [
    "# Test Ridge\n",
    "model1b_metrics_m = modeling(model1b, X_1_m, y_1_m, 10)\n",
    "model1b_metrics_m.mean()"
   ]
  },
  {
   "cell_type": "markdown",
   "metadata": {},
   "source": [
    "`Ridge` still outperformed `Lasso` based on R2 score. In this case, removing outliers and log transforming `sq_feet_num` seems to negatively impact the performance, but the log transformed version will be used in the following models. "
   ]
  },
  {
   "cell_type": "markdown",
   "metadata": {},
   "source": [
    "---\n",
    "## Model 2 - Interaction"
   ]
  },
  {
   "cell_type": "markdown",
   "metadata": {},
   "source": [
    "### beds and baths per sqft"
   ]
  },
  {
   "cell_type": "code",
   "execution_count": 1018,
   "metadata": {},
   "outputs": [],
   "source": [
    "rent_v4['bedroom/sqft'] = rent_v4['beds']/np.exp(rent_v4['sq_feet_num'])\n",
    "rent_v4['bathroom/sqft'] = rent_v4['baths']/np.exp(rent_v4['sq_feet_num'])"
   ]
  },
  {
   "cell_type": "markdown",
   "metadata": {},
   "source": [
    "### price/sqft outlier"
   ]
  },
  {
   "cell_type": "code",
   "execution_count": 1019,
   "metadata": {},
   "outputs": [],
   "source": [
    "# Convert logged value to original\n",
    "rent_v4['price/sqft'] = rent_v4['price']/np.exp(rent_v4['sq_feet_num'])"
   ]
  },
  {
   "cell_type": "code",
   "execution_count": 1020,
   "metadata": {},
   "outputs": [
    {
     "data": {
      "image/png": "[encoded data removed]",
      "text/plain": [
       "<Figure size 1800x600 with 1 Axes>"
      ]
     },
     "metadata": {},
     "output_type": "display_data"
    }
   ],
   "source": [
    "# Visualization\n",
    "fig15, ax15 = plt.subplots(figsize=(18,6))\n",
    "\n",
    "\n",
    "sns.histplot(ax=ax15, x=rent_v4['price/sqft'])\n",
    "\n",
    "ax15.set_title('Price per sqft Distribution');"
   ]
  },
  {
   "cell_type": "markdown",
   "metadata": {},
   "source": [
    "Looks like a bell curve but with significant outliers"
   ]
  },
  {
   "cell_type": "code",
   "execution_count": 1021,
   "metadata": {},
   "outputs": [
    {
     "data": {
      "text/plain": [
       "(144, 17)"
      ]
     },
     "execution_count": 1021,
     "metadata": {},
     "output_type": "execute_result"
    }
   ],
   "source": [
    "# Look for outliers\n",
    "unit_pr = rent_v4['price/sqft']\n",
    "mean_unit_pr = np.mean(unit_pr)\n",
    "sigma_unit_pr=np.std(unit_pr)\n",
    "\n",
    "cut = mean_unit_pr + 3*sigma_unit_pr\n",
    "cut_2 = mean_unit_pr - 3*sigma_unit_pr\n",
    "\n",
    "# Check\n",
    "rent_v4[(rent_v4['price/sqft']>=cut)|(rent_v4['price/sqft']<cut_2)].shape # Consider to drop"
   ]
  },
  {
   "cell_type": "code",
   "execution_count": 1022,
   "metadata": {},
   "outputs": [],
   "source": [
    "rent_v6 = rent_v4.drop(rent_v4[rent_v4['price/sqft']>cut].index)\n",
    "rent_v6.reset_index(inplace=True, drop=True)"
   ]
  },
  {
   "cell_type": "code",
   "execution_count": 1023,
   "metadata": {},
   "outputs": [
    {
     "data": {
      "image/png": "[encoded data removed]",
      "text/plain": [
       "<Figure size 1800x600 with 1 Axes>"
      ]
     },
     "metadata": {},
     "output_type": "display_data"
    }
   ],
   "source": [
    "# Visualization\n",
    "fig16, ax16 = plt.subplots(figsize=(18,6))\n",
    "\n",
    "\n",
    "sns.histplot(ax=ax16, x=rent_v6['price/sqft'])\n",
    "\n",
    "ax16.set_title('Price per sqft Distribution');"
   ]
  },
  {
   "cell_type": "code",
   "execution_count": 1024,
   "metadata": {},
   "outputs": [],
   "source": [
    "# Encoding\n",
    "rent_v7 = encoding(rent_v6)"
   ]
  },
  {
   "cell_type": "code",
   "execution_count": 1025,
   "metadata": {},
   "outputs": [],
   "source": [
    "# Modification\n",
    "def modeling2(model, X, y, test_time):\n",
    "     MAE = []\n",
    "     MSE = []\n",
    "     RMSE = []\n",
    "     R2 = []\n",
    "     trail = []\n",
    "     for i in range(1,test_time+1):\n",
    "        # Train test split\n",
    "        X_train, X_test, y_train, y_test = train_test_split(X, y, test_size = 0.15)\n",
    "\n",
    "        # Scaling\n",
    "        scaler = RobustScaler()\n",
    "        X_train[['sq_feet_num','bedroom/sqft','bathroom/sqft']] = scaler.fit_transform(pd.DataFrame(X_train[['sq_feet_num','bedroom/sqft','bathroom/sqft']]))\n",
    "        X_test[['sq_feet_num','bedroom/sqft','bathroom/sqft']] = scaler.transform(pd.DataFrame(X_test[['sq_feet_num','bedroom/sqft','bathroom/sqft']]))\n",
    "\n",
    "        # Train\n",
    "        model.fit(X_train, y_train)\n",
    "\n",
    "        # Test\n",
    "        y_pred = model.predict(X_test)\n",
    "\n",
    "        # Evaluation\n",
    "        MAE.append(mean_absolute_error(y_test, y_pred))\n",
    "        MSE.append(mean_squared_error(y_test, y_pred))\n",
    "        RMSE.append(np.sqrt(mean_squared_error(y_test, y_pred)))\n",
    "        R2.append(model.score(X_test,y_test))\n",
    "        trail.append(i)\n",
    "\n",
    "     # Evaluation df\n",
    "     eval_df = pd.DataFrame({'trail':trail,'MAE':MAE,'MSE':MSE,'RMSE':RMSE,'R2':R2})\n",
    "   \n",
    "     return eval_df"
   ]
  },
  {
   "cell_type": "code",
   "execution_count": 1026,
   "metadata": {},
   "outputs": [],
   "source": [
    "# Feature separated from target\n",
    "X_2= rent_v7.drop(columns=['longitude','province','price','latitude','price/sqft'])\n",
    "y_2 = rent_v7['price']"
   ]
  },
  {
   "cell_type": "code",
   "execution_count": 1027,
   "metadata": {},
   "outputs": [
    {
     "data": {
      "text/plain": [
       "trail         5.500000\n",
       "MAE         352.722662\n",
       "MSE      300222.613938\n",
       "RMSE        545.924254\n",
       "R2            0.575928\n",
       "dtype: float64"
      ]
     },
     "execution_count": 1027,
     "metadata": {},
     "output_type": "execute_result"
    }
   ],
   "source": [
    "# Test lasso\n",
    "model2_metrics = modeling2(model1a, X_2, y_2, 10)\n",
    "model2_metrics.mean()"
   ]
  },
  {
   "cell_type": "code",
   "execution_count": 1028,
   "metadata": {},
   "outputs": [
    {
     "data": {
      "text/plain": [
       "trail         5.500000\n",
       "MAE         297.453191\n",
       "MSE      236929.670931\n",
       "RMSE        483.671752\n",
       "R2            0.670605\n",
       "dtype: float64"
      ]
     },
     "execution_count": 1028,
     "metadata": {},
     "output_type": "execute_result"
    }
   ],
   "source": [
    "# Test Ridge\n",
    "model2_metrics = modeling2(model1b, X_2, y_2, 10)\n",
    "model2_metrics.mean()"
   ]
  },
  {
   "cell_type": "markdown",
   "metadata": {},
   "source": [
    "`Ridge` still outperformed `Lasso` based on R2 score. Creating interaction terms and removing outliers from `price/sqft` seems to postively impact the model performance. "
   ]
  },
  {
   "cell_type": "markdown",
   "metadata": {},
   "source": [
    "## Model 3 - Creation of Zipcode Feature\n",
    "Normally zipcode is an important feature to predict rental price. Although this information is not given in the dataset, by using `geopy`, the zipcode can be found with given corordinate. The code `get_zipcode()` is used ([Check detail](https://gis.stackexchange.com/questions/352961/converting-lat-lon-to-postal-code-using-python)).\n",
    "\n",
    "The cooridnates are rounded to 2 decimal places as:\n",
    "1. `get_zipcode()` is not a fast function. There are 8000+ distinct cooridinates, to be able to get the full datat, approximately 5.5hrs are needed. \n",
    "2. A 0.01 difference in cooridnate will result in a 1 km difference in distance. For the purpose of this project, the error is well tolerated. "
   ]
  },
  {
   "cell_type": "code",
   "execution_count": 1029,
   "metadata": {},
   "outputs": [],
   "source": [
    "import geopy"
   ]
  },
  {
   "cell_type": "code",
   "execution_count": 1030,
   "metadata": {},
   "outputs": [],
   "source": [
    "def get_zipcode(df, geolocator, lat_field, lon_field):\n",
    "    location = geolocator.reverse((df[lat_field], df[lon_field]))\n",
    "\n",
    "    # If there is no matching zipcode for a given coordinate, an error will be raised\n",
    "    try:\n",
    "        return location.raw['address']['postcode']\n",
    "    \n",
    "    # If no zipcode matched, return None\n",
    "    except:\n",
    "        return None"
   ]
  },
  {
   "cell_type": "code",
   "execution_count": 1031,
   "metadata": {},
   "outputs": [
    {
     "data": {
      "text/html": [
       "<div>\n",
       "<style scoped>\n",
       "    .dataframe tbody tr th:only-of-type {\n",
       "        vertical-align: middle;\n",
       "    }\n",
       "\n",
       "    .dataframe tbody tr th {\n",
       "        vertical-align: top;\n",
       "    }\n",
       "\n",
       "    .dataframe thead th {\n",
       "        text-align: right;\n",
       "    }\n",
       "</style>\n",
       "<table border=\"1\" class=\"dataframe\">\n",
       "  <thead>\n",
       "    <tr style=\"text-align: right;\">\n",
       "      <th></th>\n",
       "      <th>longitude</th>\n",
       "      <th>latitude</th>\n",
       "    </tr>\n",
       "  </thead>\n",
       "  <tbody>\n",
       "    <tr>\n",
       "      <th>0</th>\n",
       "      <td>-114.01</td>\n",
       "      <td>51.31</td>\n",
       "    </tr>\n",
       "    <tr>\n",
       "      <th>5</th>\n",
       "      <td>-114.02</td>\n",
       "      <td>51.27</td>\n",
       "    </tr>\n",
       "    <tr>\n",
       "      <th>9</th>\n",
       "      <td>-114.01</td>\n",
       "      <td>51.29</td>\n",
       "    </tr>\n",
       "    <tr>\n",
       "      <th>10</th>\n",
       "      <td>-114.02</td>\n",
       "      <td>51.30</td>\n",
       "    </tr>\n",
       "    <tr>\n",
       "      <th>11</th>\n",
       "      <td>-114.00</td>\n",
       "      <td>51.28</td>\n",
       "    </tr>\n",
       "    <tr>\n",
       "      <th>...</th>\n",
       "      <td>...</td>\n",
       "      <td>...</td>\n",
       "    </tr>\n",
       "    <tr>\n",
       "      <th>18774</th>\n",
       "      <td>-102.48</td>\n",
       "      <td>51.20</td>\n",
       "    </tr>\n",
       "    <tr>\n",
       "      <th>18779</th>\n",
       "      <td>-102.47</td>\n",
       "      <td>51.20</td>\n",
       "    </tr>\n",
       "    <tr>\n",
       "      <th>18781</th>\n",
       "      <td>-102.44</td>\n",
       "      <td>51.21</td>\n",
       "    </tr>\n",
       "    <tr>\n",
       "      <th>18787</th>\n",
       "      <td>-102.46</td>\n",
       "      <td>51.22</td>\n",
       "    </tr>\n",
       "    <tr>\n",
       "      <th>18799</th>\n",
       "      <td>-102.46</td>\n",
       "      <td>51.21</td>\n",
       "    </tr>\n",
       "  </tbody>\n",
       "</table>\n",
       "<p>3217 rows × 2 columns</p>\n",
       "</div>"
      ],
      "text/plain": [
       "       longitude  latitude\n",
       "0        -114.01     51.31\n",
       "5        -114.02     51.27\n",
       "9        -114.01     51.29\n",
       "10       -114.02     51.30\n",
       "11       -114.00     51.28\n",
       "...          ...       ...\n",
       "18774    -102.48     51.20\n",
       "18779    -102.47     51.20\n",
       "18781    -102.44     51.21\n",
       "18787    -102.46     51.22\n",
       "18799    -102.46     51.21\n",
       "\n",
       "[3217 rows x 2 columns]"
      ]
     },
     "execution_count": 1031,
     "metadata": {},
     "output_type": "execute_result"
    }
   ],
   "source": [
    "# Round longitude and latitude and find unique values\n",
    "lon_lat=rent_v1[['longitude','latitude']].round(2).drop_duplicates()\n",
    "lon_lat"
   ]
  },
  {
   "cell_type": "markdown",
   "metadata": {},
   "source": [
    "**Warning: Please do not run the codes below!! It will take 25mins**"
   ]
  },
  {
   "cell_type": "code",
   "execution_count": 1032,
   "metadata": {},
   "outputs": [],
   "source": [
    "# # Find Zipcode based on coordinate\n",
    "\n",
    "# geo_locator = geopy.Nominatim(user_agent='1234')\n",
    "\n",
    "# zipcodes = lon_lat.apply(get_zipcode, axis=1, geolocator=geo_locator, lat_field='latitude', lon_field='longitude')\n",
    "\n",
    "# # Export\n",
    "# zipcodes.to_csv('zipcodes.csv',index=False)"
   ]
  },
  {
   "cell_type": "code",
   "execution_count": 1033,
   "metadata": {},
   "outputs": [
    {
     "data": {
      "text/html": [
       "<div>\n",
       "<style scoped>\n",
       "    .dataframe tbody tr th:only-of-type {\n",
       "        vertical-align: middle;\n",
       "    }\n",
       "\n",
       "    .dataframe tbody tr th {\n",
       "        vertical-align: top;\n",
       "    }\n",
       "\n",
       "    .dataframe thead th {\n",
       "        text-align: right;\n",
       "    }\n",
       "</style>\n",
       "<table border=\"1\" class=\"dataframe\">\n",
       "  <thead>\n",
       "    <tr style=\"text-align: right;\">\n",
       "      <th></th>\n",
       "      <th>postcode</th>\n",
       "    </tr>\n",
       "  </thead>\n",
       "  <tbody>\n",
       "    <tr>\n",
       "      <th>0</th>\n",
       "      <td>T4B 0J6</td>\n",
       "    </tr>\n",
       "    <tr>\n",
       "      <th>1</th>\n",
       "      <td>T4B 2X2</td>\n",
       "    </tr>\n",
       "    <tr>\n",
       "      <th>2</th>\n",
       "      <td>T4B 0P9</td>\n",
       "    </tr>\n",
       "    <tr>\n",
       "      <th>3</th>\n",
       "      <td>T4B 0L5</td>\n",
       "    </tr>\n",
       "    <tr>\n",
       "      <th>4</th>\n",
       "      <td>T4A 1L9</td>\n",
       "    </tr>\n",
       "  </tbody>\n",
       "</table>\n",
       "</div>"
      ],
      "text/plain": [
       "  postcode\n",
       "0  T4B 0J6\n",
       "1  T4B 2X2\n",
       "2  T4B 0P9\n",
       "3  T4B 0L5\n",
       "4  T4A 1L9"
      ]
     },
     "execution_count": 1033,
     "metadata": {},
     "output_type": "execute_result"
    }
   ],
   "source": [
    "# import zipcodes\n",
    "postcode = pd.read_csv('zipcodes.csv')\n",
    "postcode.drop(columns='i',inplace=True)\n",
    "postcode.columns = ['postcode']\n",
    "postcode.head(5)"
   ]
  },
  {
   "cell_type": "code",
   "execution_count": 1034,
   "metadata": {},
   "outputs": [
    {
     "data": {
      "text/plain": [
       "(31, 3)"
      ]
     },
     "execution_count": 1034,
     "metadata": {},
     "output_type": "execute_result"
    }
   ],
   "source": [
    "# Join coordiante and matching zipcode\n",
    "lon_lat.reset_index(drop=True,inplace=True)\n",
    "code_ll = lon_lat.join(postcode)\n",
    "code_ll[code_ll['postcode'].isna()].drop_duplicates().shape #pass"
   ]
  },
  {
   "cell_type": "markdown",
   "metadata": {},
   "source": [
    "Note that there are missing values in the joined dataset `code_ll`"
   ]
  },
  {
   "cell_type": "code",
   "execution_count": 1035,
   "metadata": {},
   "outputs": [],
   "source": [
    "# Fill in the missing postcode by the postcode of its closest point\n",
    "\n",
    "def find_closest(df,point):\n",
    "\n",
    "    tree=KDTree(df[['longitude','latitude']])\n",
    "    distance,index = tree.query(point)\n",
    "    closest_point_code = df.iloc[index]['postcode']\n",
    "\n",
    "    return closest_point_code"
   ]
  },
  {
   "cell_type": "code",
   "execution_count": 1036,
   "metadata": {},
   "outputs": [],
   "source": [
    "# Loop to fill in NA\n",
    "points_df = code_ll[code_ll['postcode'].isna()][['longitude','latitude']]\n",
    "postcode_imputed = []\n",
    "for i in range(points_df.shape[0]):\n",
    "    postcode_imputed.append(find_closest(code_ll.dropna(),points_df.iloc[i]))\n",
    "    \n",
    "points_df['postcode'] = postcode_imputed\n",
    "full_code = pd.concat([code_ll.dropna(), points_df])"
   ]
  },
  {
   "cell_type": "code",
   "execution_count": 1037,
   "metadata": {},
   "outputs": [
    {
     "data": {
      "text/plain": [
       "0"
      ]
     },
     "execution_count": 1037,
     "metadata": {},
     "output_type": "execute_result"
    }
   ],
   "source": [
    "# Merge\n",
    "rent_v6['longitude'], rent_v6['latitude'] = rent_v6['longitude'].round(2), rent_v6['latitude'].round(2)\n",
    "rent_v8 = pd.merge(rent_v6, full_code, how='left',on=['longitude','latitude'])\n",
    "\n",
    "# Check\n",
    "rent_v8['postcode'].isna().sum()"
   ]
  },
  {
   "cell_type": "code",
   "execution_count": 1038,
   "metadata": {},
   "outputs": [
    {
     "data": {
      "image/png": "[encoded data removed]",
      "text/plain": [
       "<Figure size 1800x600 with 2 Axes>"
      ]
     },
     "metadata": {},
     "output_type": "display_data"
    }
   ],
   "source": [
    "# Visualization\n",
    "est = rent_v8.groupby('postcode')['price/sqft'].mean().reset_index()\n",
    "est2 = rent_v8.groupby('city')['price/sqft'].mean().reset_index()\n",
    "\n",
    "fig17, (ax17,ax18) = plt.subplots(figsize=(18,6),nrows=2)\n",
    "fig17.subplots_adjust(hspace=0.7)\n",
    "\n",
    "sns.histplot(ax=ax17, x=est['price/sqft'])\n",
    "ax17.set_title('Average Price per sqft Distribution based on postcode')\n",
    "\n",
    "sns.histplot(ax=ax18, x=est2['price/sqft'])\n",
    "ax18.set_title('Average Price per sqft Distribution based on city');"
   ]
  },
  {
   "cell_type": "markdown",
   "metadata": {},
   "source": [
    "`fig17` showed that postcode encode more detailed information in terms of predicting the average price per sqft. However, since there are almost 3000 distinct postcode, it is not good to use it as a categorical data. Therefore, zipcodes need to be grouped based on the average price per sqft, which is a direct indicator of `price`."
   ]
  },
  {
   "cell_type": "code",
   "execution_count": 1039,
   "metadata": {},
   "outputs": [],
   "source": [
    "# Grouping\n",
    "est =est.groupby('postcode')['price/sqft'].mean().reset_index()\n",
    "est.loc[(est['price/sqft']<=1), 'postcode_index']=0\n",
    "est.loc[(est['price/sqft']>1)&(est['price/sqft']<=2), 'postcode_index']=2\n",
    "est.loc[(est['price/sqft']>2)&(est['price/sqft']<=3), 'postcode_index']=3\n",
    "est.loc[(est['price/sqft']>3)&(est['price/sqft']<=4), 'postcode_index']=4\n",
    "est.loc[(est['price/sqft']>4), 'postcode_index']=5\n",
    "\n",
    "est.drop(columns='price/sqft', inplace=True)"
   ]
  },
  {
   "cell_type": "code",
   "execution_count": 1040,
   "metadata": {},
   "outputs": [
    {
     "data": {
      "text/html": [
       "<div>\n",
       "<style scoped>\n",
       "    .dataframe tbody tr th:only-of-type {\n",
       "        vertical-align: middle;\n",
       "    }\n",
       "\n",
       "    .dataframe tbody tr th {\n",
       "        vertical-align: top;\n",
       "    }\n",
       "\n",
       "    .dataframe thead th {\n",
       "        text-align: right;\n",
       "    }\n",
       "</style>\n",
       "<table border=\"1\" class=\"dataframe\">\n",
       "  <thead>\n",
       "    <tr style=\"text-align: right;\">\n",
       "      <th></th>\n",
       "      <th>city</th>\n",
       "      <th>province</th>\n",
       "      <th>latitude</th>\n",
       "      <th>longitude</th>\n",
       "      <th>type</th>\n",
       "      <th>price</th>\n",
       "      <th>beds</th>\n",
       "      <th>baths</th>\n",
       "      <th>smoking</th>\n",
       "      <th>cats</th>\n",
       "      <th>dogs</th>\n",
       "      <th>lease_term_1</th>\n",
       "      <th>furnishing_1</th>\n",
       "      <th>sq_feet_num</th>\n",
       "      <th>bedroom/sqft</th>\n",
       "      <th>bathroom/sqft</th>\n",
       "      <th>price/sqft</th>\n",
       "      <th>postcode</th>\n",
       "      <th>postcode_index</th>\n",
       "    </tr>\n",
       "  </thead>\n",
       "  <tbody>\n",
       "    <tr>\n",
       "      <th>0</th>\n",
       "      <td>Airdrie</td>\n",
       "      <td>Alberta</td>\n",
       "      <td>51.31</td>\n",
       "      <td>-114.01</td>\n",
       "      <td>Townhouse</td>\n",
       "      <td>2495.0</td>\n",
       "      <td>2</td>\n",
       "      <td>2.5</td>\n",
       "      <td>Non-Smoking</td>\n",
       "      <td>True</td>\n",
       "      <td>True</td>\n",
       "      <td>Long Term</td>\n",
       "      <td>Unfurnished</td>\n",
       "      <td>7.246368</td>\n",
       "      <td>0.001426</td>\n",
       "      <td>0.001782</td>\n",
       "      <td>1.778332</td>\n",
       "      <td>T4B 0J6</td>\n",
       "      <td>2.0</td>\n",
       "    </tr>\n",
       "    <tr>\n",
       "      <th>1</th>\n",
       "      <td>Airdrie</td>\n",
       "      <td>Alberta</td>\n",
       "      <td>51.31</td>\n",
       "      <td>-114.01</td>\n",
       "      <td>Townhouse</td>\n",
       "      <td>2695.0</td>\n",
       "      <td>3</td>\n",
       "      <td>2.5</td>\n",
       "      <td>Non-Smoking</td>\n",
       "      <td>True</td>\n",
       "      <td>True</td>\n",
       "      <td>Long Term</td>\n",
       "      <td>Unfurnished</td>\n",
       "      <td>7.310550</td>\n",
       "      <td>0.002005</td>\n",
       "      <td>0.001671</td>\n",
       "      <td>1.801471</td>\n",
       "      <td>T4B 0J6</td>\n",
       "      <td>2.0</td>\n",
       "    </tr>\n",
       "    <tr>\n",
       "      <th>2</th>\n",
       "      <td>Airdrie</td>\n",
       "      <td>Alberta</td>\n",
       "      <td>51.31</td>\n",
       "      <td>-114.01</td>\n",
       "      <td>Townhouse</td>\n",
       "      <td>2295.0</td>\n",
       "      <td>2</td>\n",
       "      <td>2.5</td>\n",
       "      <td>Non-Smoking</td>\n",
       "      <td>True</td>\n",
       "      <td>True</td>\n",
       "      <td>Long Term</td>\n",
       "      <td>Unfurnished</td>\n",
       "      <td>7.073270</td>\n",
       "      <td>0.001695</td>\n",
       "      <td>0.002119</td>\n",
       "      <td>1.944915</td>\n",
       "      <td>T4B 0J6</td>\n",
       "      <td>2.0</td>\n",
       "    </tr>\n",
       "    <tr>\n",
       "      <th>3</th>\n",
       "      <td>Airdrie</td>\n",
       "      <td>Alberta</td>\n",
       "      <td>51.31</td>\n",
       "      <td>-114.01</td>\n",
       "      <td>Townhouse</td>\n",
       "      <td>2095.0</td>\n",
       "      <td>2</td>\n",
       "      <td>2.5</td>\n",
       "      <td>Non-Smoking</td>\n",
       "      <td>True</td>\n",
       "      <td>True</td>\n",
       "      <td>Long Term</td>\n",
       "      <td>Unfurnished</td>\n",
       "      <td>7.246368</td>\n",
       "      <td>0.001426</td>\n",
       "      <td>0.001782</td>\n",
       "      <td>1.493229</td>\n",
       "      <td>T4B 0J6</td>\n",
       "      <td>2.0</td>\n",
       "    </tr>\n",
       "    <tr>\n",
       "      <th>4</th>\n",
       "      <td>Airdrie</td>\n",
       "      <td>Alberta</td>\n",
       "      <td>51.31</td>\n",
       "      <td>-114.01</td>\n",
       "      <td>Townhouse</td>\n",
       "      <td>2495.0</td>\n",
       "      <td>2</td>\n",
       "      <td>2.5</td>\n",
       "      <td>Non-Smoking</td>\n",
       "      <td>True</td>\n",
       "      <td>True</td>\n",
       "      <td>Long Term</td>\n",
       "      <td>Unfurnished</td>\n",
       "      <td>7.208600</td>\n",
       "      <td>0.001480</td>\n",
       "      <td>0.001850</td>\n",
       "      <td>1.846780</td>\n",
       "      <td>T4B 0J6</td>\n",
       "      <td>2.0</td>\n",
       "    </tr>\n",
       "    <tr>\n",
       "      <th>...</th>\n",
       "      <td>...</td>\n",
       "      <td>...</td>\n",
       "      <td>...</td>\n",
       "      <td>...</td>\n",
       "      <td>...</td>\n",
       "      <td>...</td>\n",
       "      <td>...</td>\n",
       "      <td>...</td>\n",
       "      <td>...</td>\n",
       "      <td>...</td>\n",
       "      <td>...</td>\n",
       "      <td>...</td>\n",
       "      <td>...</td>\n",
       "      <td>...</td>\n",
       "      <td>...</td>\n",
       "      <td>...</td>\n",
       "      <td>...</td>\n",
       "      <td>...</td>\n",
       "      <td>...</td>\n",
       "    </tr>\n",
       "    <tr>\n",
       "      <th>18639</th>\n",
       "      <td>Yorkton</td>\n",
       "      <td>Saskatchewan</td>\n",
       "      <td>51.20</td>\n",
       "      <td>-102.48</td>\n",
       "      <td>Apartment</td>\n",
       "      <td>920.0</td>\n",
       "      <td>0</td>\n",
       "      <td>1.0</td>\n",
       "      <td>Non-Smoking</td>\n",
       "      <td>True</td>\n",
       "      <td>True</td>\n",
       "      <td>Long Term</td>\n",
       "      <td>Unfurnished</td>\n",
       "      <td>5.991465</td>\n",
       "      <td>0.000000</td>\n",
       "      <td>0.002500</td>\n",
       "      <td>2.300000</td>\n",
       "      <td>S3N 2T2</td>\n",
       "      <td>3.0</td>\n",
       "    </tr>\n",
       "    <tr>\n",
       "      <th>18640</th>\n",
       "      <td>Yorkton</td>\n",
       "      <td>Saskatchewan</td>\n",
       "      <td>51.20</td>\n",
       "      <td>-102.48</td>\n",
       "      <td>Apartment</td>\n",
       "      <td>1450.0</td>\n",
       "      <td>3</td>\n",
       "      <td>1.0</td>\n",
       "      <td>Non-Smoking</td>\n",
       "      <td>True</td>\n",
       "      <td>True</td>\n",
       "      <td>Long Term</td>\n",
       "      <td>Unfurnished</td>\n",
       "      <td>6.697034</td>\n",
       "      <td>0.003704</td>\n",
       "      <td>0.001235</td>\n",
       "      <td>1.790123</td>\n",
       "      <td>S3N 2T2</td>\n",
       "      <td>3.0</td>\n",
       "    </tr>\n",
       "    <tr>\n",
       "      <th>18641</th>\n",
       "      <td>Yorkton</td>\n",
       "      <td>Saskatchewan</td>\n",
       "      <td>51.20</td>\n",
       "      <td>-102.49</td>\n",
       "      <td>Apartment</td>\n",
       "      <td>1125.0</td>\n",
       "      <td>1</td>\n",
       "      <td>1.0</td>\n",
       "      <td>Non-Smoking</td>\n",
       "      <td>True</td>\n",
       "      <td>True</td>\n",
       "      <td>Long Term</td>\n",
       "      <td>Unfurnished</td>\n",
       "      <td>6.253829</td>\n",
       "      <td>0.001923</td>\n",
       "      <td>0.001923</td>\n",
       "      <td>2.163462</td>\n",
       "      <td>S3N 0P3</td>\n",
       "      <td>2.0</td>\n",
       "    </tr>\n",
       "    <tr>\n",
       "      <th>18642</th>\n",
       "      <td>Yorkton</td>\n",
       "      <td>Saskatchewan</td>\n",
       "      <td>51.20</td>\n",
       "      <td>-102.49</td>\n",
       "      <td>Apartment</td>\n",
       "      <td>920.0</td>\n",
       "      <td>0</td>\n",
       "      <td>1.0</td>\n",
       "      <td>Non-Smoking</td>\n",
       "      <td>True</td>\n",
       "      <td>True</td>\n",
       "      <td>Long Term</td>\n",
       "      <td>Unfurnished</td>\n",
       "      <td>5.991465</td>\n",
       "      <td>0.000000</td>\n",
       "      <td>0.002500</td>\n",
       "      <td>2.300000</td>\n",
       "      <td>S3N 0P3</td>\n",
       "      <td>2.0</td>\n",
       "    </tr>\n",
       "    <tr>\n",
       "      <th>18643</th>\n",
       "      <td>Yorkton</td>\n",
       "      <td>Saskatchewan</td>\n",
       "      <td>51.20</td>\n",
       "      <td>-102.49</td>\n",
       "      <td>Apartment</td>\n",
       "      <td>1285.0</td>\n",
       "      <td>2</td>\n",
       "      <td>1.0</td>\n",
       "      <td>Non-Smoking</td>\n",
       "      <td>True</td>\n",
       "      <td>True</td>\n",
       "      <td>Long Term</td>\n",
       "      <td>Unfurnished</td>\n",
       "      <td>6.551080</td>\n",
       "      <td>0.002857</td>\n",
       "      <td>0.001429</td>\n",
       "      <td>1.835714</td>\n",
       "      <td>S3N 0P3</td>\n",
       "      <td>2.0</td>\n",
       "    </tr>\n",
       "  </tbody>\n",
       "</table>\n",
       "<p>18644 rows × 19 columns</p>\n",
       "</div>"
      ],
      "text/plain": [
       "          city      province  latitude  longitude       type   price  beds  \\\n",
       "0      Airdrie       Alberta     51.31    -114.01  Townhouse  2495.0     2   \n",
       "1      Airdrie       Alberta     51.31    -114.01  Townhouse  2695.0     3   \n",
       "2      Airdrie       Alberta     51.31    -114.01  Townhouse  2295.0     2   \n",
       "3      Airdrie       Alberta     51.31    -114.01  Townhouse  2095.0     2   \n",
       "4      Airdrie       Alberta     51.31    -114.01  Townhouse  2495.0     2   \n",
       "...        ...           ...       ...        ...        ...     ...   ...   \n",
       "18639  Yorkton  Saskatchewan     51.20    -102.48  Apartment   920.0     0   \n",
       "18640  Yorkton  Saskatchewan     51.20    -102.48  Apartment  1450.0     3   \n",
       "18641  Yorkton  Saskatchewan     51.20    -102.49  Apartment  1125.0     1   \n",
       "18642  Yorkton  Saskatchewan     51.20    -102.49  Apartment   920.0     0   \n",
       "18643  Yorkton  Saskatchewan     51.20    -102.49  Apartment  1285.0     2   \n",
       "\n",
       "       baths      smoking  cats  dogs lease_term_1 furnishing_1  sq_feet_num  \\\n",
       "0        2.5  Non-Smoking  True  True    Long Term  Unfurnished     7.246368   \n",
       "1        2.5  Non-Smoking  True  True    Long Term  Unfurnished     7.310550   \n",
       "2        2.5  Non-Smoking  True  True    Long Term  Unfurnished     7.073270   \n",
       "3        2.5  Non-Smoking  True  True    Long Term  Unfurnished     7.246368   \n",
       "4        2.5  Non-Smoking  True  True    Long Term  Unfurnished     7.208600   \n",
       "...      ...          ...   ...   ...          ...          ...          ...   \n",
       "18639    1.0  Non-Smoking  True  True    Long Term  Unfurnished     5.991465   \n",
       "18640    1.0  Non-Smoking  True  True    Long Term  Unfurnished     6.697034   \n",
       "18641    1.0  Non-Smoking  True  True    Long Term  Unfurnished     6.253829   \n",
       "18642    1.0  Non-Smoking  True  True    Long Term  Unfurnished     5.991465   \n",
       "18643    1.0  Non-Smoking  True  True    Long Term  Unfurnished     6.551080   \n",
       "\n",
       "       bedroom/sqft  bathroom/sqft  price/sqft postcode  postcode_index  \n",
       "0          0.001426       0.001782    1.778332  T4B 0J6             2.0  \n",
       "1          0.002005       0.001671    1.801471  T4B 0J6             2.0  \n",
       "2          0.001695       0.002119    1.944915  T4B 0J6             2.0  \n",
       "3          0.001426       0.001782    1.493229  T4B 0J6             2.0  \n",
       "4          0.001480       0.001850    1.846780  T4B 0J6             2.0  \n",
       "...             ...            ...         ...      ...             ...  \n",
       "18639      0.000000       0.002500    2.300000  S3N 2T2             3.0  \n",
       "18640      0.003704       0.001235    1.790123  S3N 2T2             3.0  \n",
       "18641      0.001923       0.001923    2.163462  S3N 0P3             2.0  \n",
       "18642      0.000000       0.002500    2.300000  S3N 0P3             2.0  \n",
       "18643      0.002857       0.001429    1.835714  S3N 0P3             2.0  \n",
       "\n",
       "[18644 rows x 19 columns]"
      ]
     },
     "execution_count": 1040,
     "metadata": {},
     "output_type": "execute_result"
    }
   ],
   "source": [
    "rent_v8 = pd.merge(rent_v8, est, how='left',on=['postcode'])\n",
    "rent_v8"
   ]
  },
  {
   "cell_type": "code",
   "execution_count": 1041,
   "metadata": {},
   "outputs": [],
   "source": [
    "def encoding_v3(v1):\n",
    "    encoder = OneHotEncoder(drop='first', sparse_output=False)\n",
    "    encoded = encoder.fit_transform(v1[['lease_term_1', 'furnishing_1', 'beds','baths','smoking','type','cats','dogs','postcode_index']])\n",
    "    v2 = pd.DataFrame(encoded, columns = encoder.get_feature_names_out(['lease_term_1', 'furnishing_1', 'beds','baths','smoking','type','cats','dogs','postcode_index']))\n",
    "    v3 = v1.drop(columns=['lease_term_1', 'furnishing_1', 'beds','baths','smoking','type','cats','dogs','postcode_index']).join(v2)\n",
    "    return v3"
   ]
  },
  {
   "cell_type": "code",
   "execution_count": 1042,
   "metadata": {},
   "outputs": [
    {
     "data": {
      "text/html": [
       "<div>\n",
       "<style scoped>\n",
       "    .dataframe tbody tr th:only-of-type {\n",
       "        vertical-align: middle;\n",
       "    }\n",
       "\n",
       "    .dataframe tbody tr th {\n",
       "        vertical-align: top;\n",
       "    }\n",
       "\n",
       "    .dataframe thead th {\n",
       "        text-align: right;\n",
       "    }\n",
       "</style>\n",
       "<table border=\"1\" class=\"dataframe\">\n",
       "  <thead>\n",
       "    <tr style=\"text-align: right;\">\n",
       "      <th></th>\n",
       "      <th>city</th>\n",
       "      <th>province</th>\n",
       "      <th>latitude</th>\n",
       "      <th>longitude</th>\n",
       "      <th>price</th>\n",
       "      <th>sq_feet_num</th>\n",
       "      <th>bedroom/sqft</th>\n",
       "      <th>bathroom/sqft</th>\n",
       "      <th>price/sqft</th>\n",
       "      <th>postcode</th>\n",
       "      <th>...</th>\n",
       "      <th>type_House</th>\n",
       "      <th>type_Main Floor</th>\n",
       "      <th>type_Room For Rent</th>\n",
       "      <th>type_Townhouse</th>\n",
       "      <th>cats_True</th>\n",
       "      <th>dogs_True</th>\n",
       "      <th>postcode_index_2.0</th>\n",
       "      <th>postcode_index_3.0</th>\n",
       "      <th>postcode_index_4.0</th>\n",
       "      <th>postcode_index_5.0</th>\n",
       "    </tr>\n",
       "  </thead>\n",
       "  <tbody>\n",
       "    <tr>\n",
       "      <th>0</th>\n",
       "      <td>Airdrie</td>\n",
       "      <td>Alberta</td>\n",
       "      <td>51.31</td>\n",
       "      <td>-114.01</td>\n",
       "      <td>2495.0</td>\n",
       "      <td>7.246368</td>\n",
       "      <td>0.001426</td>\n",
       "      <td>0.001782</td>\n",
       "      <td>1.778332</td>\n",
       "      <td>T4B 0J6</td>\n",
       "      <td>...</td>\n",
       "      <td>0.0</td>\n",
       "      <td>0.0</td>\n",
       "      <td>0.0</td>\n",
       "      <td>1.0</td>\n",
       "      <td>1.0</td>\n",
       "      <td>1.0</td>\n",
       "      <td>1.0</td>\n",
       "      <td>0.0</td>\n",
       "      <td>0.0</td>\n",
       "      <td>0.0</td>\n",
       "    </tr>\n",
       "    <tr>\n",
       "      <th>1</th>\n",
       "      <td>Airdrie</td>\n",
       "      <td>Alberta</td>\n",
       "      <td>51.31</td>\n",
       "      <td>-114.01</td>\n",
       "      <td>2695.0</td>\n",
       "      <td>7.310550</td>\n",
       "      <td>0.002005</td>\n",
       "      <td>0.001671</td>\n",
       "      <td>1.801471</td>\n",
       "      <td>T4B 0J6</td>\n",
       "      <td>...</td>\n",
       "      <td>0.0</td>\n",
       "      <td>0.0</td>\n",
       "      <td>0.0</td>\n",
       "      <td>1.0</td>\n",
       "      <td>1.0</td>\n",
       "      <td>1.0</td>\n",
       "      <td>1.0</td>\n",
       "      <td>0.0</td>\n",
       "      <td>0.0</td>\n",
       "      <td>0.0</td>\n",
       "    </tr>\n",
       "    <tr>\n",
       "      <th>2</th>\n",
       "      <td>Airdrie</td>\n",
       "      <td>Alberta</td>\n",
       "      <td>51.31</td>\n",
       "      <td>-114.01</td>\n",
       "      <td>2295.0</td>\n",
       "      <td>7.073270</td>\n",
       "      <td>0.001695</td>\n",
       "      <td>0.002119</td>\n",
       "      <td>1.944915</td>\n",
       "      <td>T4B 0J6</td>\n",
       "      <td>...</td>\n",
       "      <td>0.0</td>\n",
       "      <td>0.0</td>\n",
       "      <td>0.0</td>\n",
       "      <td>1.0</td>\n",
       "      <td>1.0</td>\n",
       "      <td>1.0</td>\n",
       "      <td>1.0</td>\n",
       "      <td>0.0</td>\n",
       "      <td>0.0</td>\n",
       "      <td>0.0</td>\n",
       "    </tr>\n",
       "    <tr>\n",
       "      <th>3</th>\n",
       "      <td>Airdrie</td>\n",
       "      <td>Alberta</td>\n",
       "      <td>51.31</td>\n",
       "      <td>-114.01</td>\n",
       "      <td>2095.0</td>\n",
       "      <td>7.246368</td>\n",
       "      <td>0.001426</td>\n",
       "      <td>0.001782</td>\n",
       "      <td>1.493229</td>\n",
       "      <td>T4B 0J6</td>\n",
       "      <td>...</td>\n",
       "      <td>0.0</td>\n",
       "      <td>0.0</td>\n",
       "      <td>0.0</td>\n",
       "      <td>1.0</td>\n",
       "      <td>1.0</td>\n",
       "      <td>1.0</td>\n",
       "      <td>1.0</td>\n",
       "      <td>0.0</td>\n",
       "      <td>0.0</td>\n",
       "      <td>0.0</td>\n",
       "    </tr>\n",
       "    <tr>\n",
       "      <th>4</th>\n",
       "      <td>Airdrie</td>\n",
       "      <td>Alberta</td>\n",
       "      <td>51.31</td>\n",
       "      <td>-114.01</td>\n",
       "      <td>2495.0</td>\n",
       "      <td>7.208600</td>\n",
       "      <td>0.001480</td>\n",
       "      <td>0.001850</td>\n",
       "      <td>1.846780</td>\n",
       "      <td>T4B 0J6</td>\n",
       "      <td>...</td>\n",
       "      <td>0.0</td>\n",
       "      <td>0.0</td>\n",
       "      <td>0.0</td>\n",
       "      <td>1.0</td>\n",
       "      <td>1.0</td>\n",
       "      <td>1.0</td>\n",
       "      <td>1.0</td>\n",
       "      <td>0.0</td>\n",
       "      <td>0.0</td>\n",
       "      <td>0.0</td>\n",
       "    </tr>\n",
       "    <tr>\n",
       "      <th>...</th>\n",
       "      <td>...</td>\n",
       "      <td>...</td>\n",
       "      <td>...</td>\n",
       "      <td>...</td>\n",
       "      <td>...</td>\n",
       "      <td>...</td>\n",
       "      <td>...</td>\n",
       "      <td>...</td>\n",
       "      <td>...</td>\n",
       "      <td>...</td>\n",
       "      <td>...</td>\n",
       "      <td>...</td>\n",
       "      <td>...</td>\n",
       "      <td>...</td>\n",
       "      <td>...</td>\n",
       "      <td>...</td>\n",
       "      <td>...</td>\n",
       "      <td>...</td>\n",
       "      <td>...</td>\n",
       "      <td>...</td>\n",
       "      <td>...</td>\n",
       "    </tr>\n",
       "    <tr>\n",
       "      <th>18639</th>\n",
       "      <td>Yorkton</td>\n",
       "      <td>Saskatchewan</td>\n",
       "      <td>51.20</td>\n",
       "      <td>-102.48</td>\n",
       "      <td>920.0</td>\n",
       "      <td>5.991465</td>\n",
       "      <td>0.000000</td>\n",
       "      <td>0.002500</td>\n",
       "      <td>2.300000</td>\n",
       "      <td>S3N 2T2</td>\n",
       "      <td>...</td>\n",
       "      <td>0.0</td>\n",
       "      <td>0.0</td>\n",
       "      <td>0.0</td>\n",
       "      <td>0.0</td>\n",
       "      <td>1.0</td>\n",
       "      <td>1.0</td>\n",
       "      <td>0.0</td>\n",
       "      <td>1.0</td>\n",
       "      <td>0.0</td>\n",
       "      <td>0.0</td>\n",
       "    </tr>\n",
       "    <tr>\n",
       "      <th>18640</th>\n",
       "      <td>Yorkton</td>\n",
       "      <td>Saskatchewan</td>\n",
       "      <td>51.20</td>\n",
       "      <td>-102.48</td>\n",
       "      <td>1450.0</td>\n",
       "      <td>6.697034</td>\n",
       "      <td>0.003704</td>\n",
       "      <td>0.001235</td>\n",
       "      <td>1.790123</td>\n",
       "      <td>S3N 2T2</td>\n",
       "      <td>...</td>\n",
       "      <td>0.0</td>\n",
       "      <td>0.0</td>\n",
       "      <td>0.0</td>\n",
       "      <td>0.0</td>\n",
       "      <td>1.0</td>\n",
       "      <td>1.0</td>\n",
       "      <td>0.0</td>\n",
       "      <td>1.0</td>\n",
       "      <td>0.0</td>\n",
       "      <td>0.0</td>\n",
       "    </tr>\n",
       "    <tr>\n",
       "      <th>18641</th>\n",
       "      <td>Yorkton</td>\n",
       "      <td>Saskatchewan</td>\n",
       "      <td>51.20</td>\n",
       "      <td>-102.49</td>\n",
       "      <td>1125.0</td>\n",
       "      <td>6.253829</td>\n",
       "      <td>0.001923</td>\n",
       "      <td>0.001923</td>\n",
       "      <td>2.163462</td>\n",
       "      <td>S3N 0P3</td>\n",
       "      <td>...</td>\n",
       "      <td>0.0</td>\n",
       "      <td>0.0</td>\n",
       "      <td>0.0</td>\n",
       "      <td>0.0</td>\n",
       "      <td>1.0</td>\n",
       "      <td>1.0</td>\n",
       "      <td>1.0</td>\n",
       "      <td>0.0</td>\n",
       "      <td>0.0</td>\n",
       "      <td>0.0</td>\n",
       "    </tr>\n",
       "    <tr>\n",
       "      <th>18642</th>\n",
       "      <td>Yorkton</td>\n",
       "      <td>Saskatchewan</td>\n",
       "      <td>51.20</td>\n",
       "      <td>-102.49</td>\n",
       "      <td>920.0</td>\n",
       "      <td>5.991465</td>\n",
       "      <td>0.000000</td>\n",
       "      <td>0.002500</td>\n",
       "      <td>2.300000</td>\n",
       "      <td>S3N 0P3</td>\n",
       "      <td>...</td>\n",
       "      <td>0.0</td>\n",
       "      <td>0.0</td>\n",
       "      <td>0.0</td>\n",
       "      <td>0.0</td>\n",
       "      <td>1.0</td>\n",
       "      <td>1.0</td>\n",
       "      <td>1.0</td>\n",
       "      <td>0.0</td>\n",
       "      <td>0.0</td>\n",
       "      <td>0.0</td>\n",
       "    </tr>\n",
       "    <tr>\n",
       "      <th>18643</th>\n",
       "      <td>Yorkton</td>\n",
       "      <td>Saskatchewan</td>\n",
       "      <td>51.20</td>\n",
       "      <td>-102.49</td>\n",
       "      <td>1285.0</td>\n",
       "      <td>6.551080</td>\n",
       "      <td>0.002857</td>\n",
       "      <td>0.001429</td>\n",
       "      <td>1.835714</td>\n",
       "      <td>S3N 0P3</td>\n",
       "      <td>...</td>\n",
       "      <td>0.0</td>\n",
       "      <td>0.0</td>\n",
       "      <td>0.0</td>\n",
       "      <td>0.0</td>\n",
       "      <td>1.0</td>\n",
       "      <td>1.0</td>\n",
       "      <td>1.0</td>\n",
       "      <td>0.0</td>\n",
       "      <td>0.0</td>\n",
       "      <td>0.0</td>\n",
       "    </tr>\n",
       "  </tbody>\n",
       "</table>\n",
       "<p>18644 rows × 52 columns</p>\n",
       "</div>"
      ],
      "text/plain": [
       "          city      province  latitude  longitude   price  sq_feet_num  \\\n",
       "0      Airdrie       Alberta     51.31    -114.01  2495.0     7.246368   \n",
       "1      Airdrie       Alberta     51.31    -114.01  2695.0     7.310550   \n",
       "2      Airdrie       Alberta     51.31    -114.01  2295.0     7.073270   \n",
       "3      Airdrie       Alberta     51.31    -114.01  2095.0     7.246368   \n",
       "4      Airdrie       Alberta     51.31    -114.01  2495.0     7.208600   \n",
       "...        ...           ...       ...        ...     ...          ...   \n",
       "18639  Yorkton  Saskatchewan     51.20    -102.48   920.0     5.991465   \n",
       "18640  Yorkton  Saskatchewan     51.20    -102.48  1450.0     6.697034   \n",
       "18641  Yorkton  Saskatchewan     51.20    -102.49  1125.0     6.253829   \n",
       "18642  Yorkton  Saskatchewan     51.20    -102.49   920.0     5.991465   \n",
       "18643  Yorkton  Saskatchewan     51.20    -102.49  1285.0     6.551080   \n",
       "\n",
       "       bedroom/sqft  bathroom/sqft  price/sqft postcode  ...  type_House  \\\n",
       "0          0.001426       0.001782    1.778332  T4B 0J6  ...         0.0   \n",
       "1          0.002005       0.001671    1.801471  T4B 0J6  ...         0.0   \n",
       "2          0.001695       0.002119    1.944915  T4B 0J6  ...         0.0   \n",
       "3          0.001426       0.001782    1.493229  T4B 0J6  ...         0.0   \n",
       "4          0.001480       0.001850    1.846780  T4B 0J6  ...         0.0   \n",
       "...             ...            ...         ...      ...  ...         ...   \n",
       "18639      0.000000       0.002500    2.300000  S3N 2T2  ...         0.0   \n",
       "18640      0.003704       0.001235    1.790123  S3N 2T2  ...         0.0   \n",
       "18641      0.001923       0.001923    2.163462  S3N 0P3  ...         0.0   \n",
       "18642      0.000000       0.002500    2.300000  S3N 0P3  ...         0.0   \n",
       "18643      0.002857       0.001429    1.835714  S3N 0P3  ...         0.0   \n",
       "\n",
       "       type_Main Floor  type_Room For Rent  type_Townhouse  cats_True  \\\n",
       "0                  0.0                 0.0             1.0        1.0   \n",
       "1                  0.0                 0.0             1.0        1.0   \n",
       "2                  0.0                 0.0             1.0        1.0   \n",
       "3                  0.0                 0.0             1.0        1.0   \n",
       "4                  0.0                 0.0             1.0        1.0   \n",
       "...                ...                 ...             ...        ...   \n",
       "18639              0.0                 0.0             0.0        1.0   \n",
       "18640              0.0                 0.0             0.0        1.0   \n",
       "18641              0.0                 0.0             0.0        1.0   \n",
       "18642              0.0                 0.0             0.0        1.0   \n",
       "18643              0.0                 0.0             0.0        1.0   \n",
       "\n",
       "       dogs_True  postcode_index_2.0  postcode_index_3.0  postcode_index_4.0  \\\n",
       "0            1.0                 1.0                 0.0                 0.0   \n",
       "1            1.0                 1.0                 0.0                 0.0   \n",
       "2            1.0                 1.0                 0.0                 0.0   \n",
       "3            1.0                 1.0                 0.0                 0.0   \n",
       "4            1.0                 1.0                 0.0                 0.0   \n",
       "...          ...                 ...                 ...                 ...   \n",
       "18639        1.0                 0.0                 1.0                 0.0   \n",
       "18640        1.0                 0.0                 1.0                 0.0   \n",
       "18641        1.0                 1.0                 0.0                 0.0   \n",
       "18642        1.0                 1.0                 0.0                 0.0   \n",
       "18643        1.0                 1.0                 0.0                 0.0   \n",
       "\n",
       "       postcode_index_5.0  \n",
       "0                     0.0  \n",
       "1                     0.0  \n",
       "2                     0.0  \n",
       "3                     0.0  \n",
       "4                     0.0  \n",
       "...                   ...  \n",
       "18639                 0.0  \n",
       "18640                 0.0  \n",
       "18641                 0.0  \n",
       "18642                 0.0  \n",
       "18643                 0.0  \n",
       "\n",
       "[18644 rows x 52 columns]"
      ]
     },
     "execution_count": 1042,
     "metadata": {},
     "output_type": "execute_result"
    }
   ],
   "source": [
    "rent_v9 = encoding_v3(rent_v8)\n",
    "rent_v9"
   ]
  },
  {
   "cell_type": "code",
   "execution_count": 1043,
   "metadata": {},
   "outputs": [],
   "source": [
    "# Feature separated from target\n",
    "X_3= rent_v9.drop(columns=['longitude','province','price','latitude','price/sqft','city','postcode'])\n",
    "y_3 = rent_v9['price']"
   ]
  },
  {
   "cell_type": "code",
   "execution_count": 1044,
   "metadata": {},
   "outputs": [
    {
     "data": {
      "text/plain": [
       "trail         5.500000\n",
       "MAE         315.059161\n",
       "MSE      234171.995436\n",
       "RMSE        481.774988\n",
       "R2            0.678493\n",
       "dtype: float64"
      ]
     },
     "execution_count": 1044,
     "metadata": {},
     "output_type": "execute_result"
    }
   ],
   "source": [
    "# Test Ridge\n",
    "model3_metrics = modeling2(model1b, X_3, y_3, 10)\n",
    "model3_metrics.mean()"
   ]
  },
  {
   "cell_type": "code",
   "execution_count": 1045,
   "metadata": {},
   "outputs": [
    {
     "data": {
      "text/plain": [
       "trail         5.500000\n",
       "MAE         320.314907\n",
       "MSE      280576.318948\n",
       "RMSE        525.335490\n",
       "R2            0.642604\n",
       "dtype: float64"
      ]
     },
     "execution_count": 1045,
     "metadata": {},
     "output_type": "execute_result"
    }
   ],
   "source": [
    "# Test Lasso\n",
    "model3_metrics = modeling2(model1a, X_3, y_3, 10)\n",
    "model3_metrics.mean()"
   ]
  },
  {
   "cell_type": "markdown",
   "metadata": {},
   "source": [
    "`Ridge` still outperformed `Lasso` based on R2 score.\n",
    "\n",
    "Note that there is an overfitting issue in this final model3, so the metrics would not hold. Since `postcode_index` is assigned based on the average of `price/sqft` per postcode of the full dataset, but not the training subset, the model has actually seen the testing data. This issue can be fixed by separating out the training and testing prior to the assignment of `postcode_index`. However, due to time restrain, yes time is limited omg, this is not shown. \n",
    "\n",
    "This issue can be reflected by the huge improvement in the performance of `Lasso` model. Since `price/sqft` is directly linked with `price`, `Lasso` can use potentially just the `postcode_index` to predict the `price`. \n",
    "\n",
    "There is another overfitting issue linked with the final model. Since `postcode` and `postcode_idnex` are created as extra feature based on the geographic location of the property, if the loction of the testing property cannot match to a close point in `rent_v8`, the assignment of `post_code_index` will be off. Here is an extreme example: if the property is located in New York, the closest `postcode` matched will potentially be somewhere in Montreal, but the rental price is definitely not the same. This can be fixed by using a bigger training dataset that contains more complete information, or by applying strict data validation prior to predict the price."
   ]
  },
  {
   "cell_type": "markdown",
   "metadata": {},
   "source": [
    "## Final model"
   ]
  },
  {
   "cell_type": "code",
   "execution_count": 1046,
   "metadata": {},
   "outputs": [],
   "source": [
    "# Compare column name\n",
    "def compare(df1, df2): # To do sanity check of column names\n",
    "    if len(list(df1.columns)) >= len(list(df2.columns)):\n",
    "        a = list(df1.columns)\n",
    "        b = list(df2.columns)\n",
    "    \n",
    "    else:\n",
    "        a = list(df2.columns)\n",
    "        b = list(df1.columns)\n",
    "\n",
    "\n",
    "    diff = []\n",
    "    for names in a:\n",
    "        if names not in b:\n",
    "            diff.append(names)\n",
    "    return diff"
   ]
  },
  {
   "cell_type": "code",
   "execution_count": 1047,
   "metadata": {},
   "outputs": [
    {
     "data": {
      "text/html": [
       "<style>#sk-container-id-10 {\n",
       "  /* Definition of color scheme common for light and dark mode */\n",
       "  --sklearn-color-text: black;\n",
       "  --sklearn-color-line: gray;\n",
       "  /* Definition of color scheme for unfitted estimators */\n",
       "  --sklearn-color-unfitted-level-0: #fff5e6;\n",
       "  --sklearn-color-unfitted-level-1: #f6e4d2;\n",
       "  --sklearn-color-unfitted-level-2: #ffe0b3;\n",
       "  --sklearn-color-unfitted-level-3: chocolate;\n",
       "  /* Definition of color scheme for fitted estimators */\n",
       "  --sklearn-color-fitted-level-0: #f0f8ff;\n",
       "  --sklearn-color-fitted-level-1: #d4ebff;\n",
       "  --sklearn-color-fitted-level-2: #b3dbfd;\n",
       "  --sklearn-color-fitted-level-3: cornflowerblue;\n",
       "\n",
       "  /* Specific color for light theme */\n",
       "  --sklearn-color-text-on-default-background: var(--sg-text-color, var(--theme-code-foreground, var(--jp-content-font-color1, black)));\n",
       "  --sklearn-color-background: var(--sg-background-color, var(--theme-background, var(--jp-layout-color0, white)));\n",
       "  --sklearn-color-border-box: var(--sg-text-color, var(--theme-code-foreground, var(--jp-content-font-color1, black)));\n",
       "  --sklearn-color-icon: #696969;\n",
       "\n",
       "  @media (prefers-color-scheme: dark) {\n",
       "    /* Redefinition of color scheme for dark theme */\n",
       "    --sklearn-color-text-on-default-background: var(--sg-text-color, var(--theme-code-foreground, var(--jp-content-font-color1, white)));\n",
       "    --sklearn-color-background: var(--sg-background-color, var(--theme-background, var(--jp-layout-color0, #111)));\n",
       "    --sklearn-color-border-box: var(--sg-text-color, var(--theme-code-foreground, var(--jp-content-font-color1, white)));\n",
       "    --sklearn-color-icon: #878787;\n",
       "  }\n",
       "}\n",
       "\n",
       "#sk-container-id-10 {\n",
       "  color: var(--sklearn-color-text);\n",
       "}\n",
       "\n",
       "#sk-container-id-10 pre {\n",
       "  padding: 0;\n",
       "}\n",
       "\n",
       "#sk-container-id-10 input.sk-hidden--visually {\n",
       "  border: 0;\n",
       "  clip: rect(1px 1px 1px 1px);\n",
       "  clip: rect(1px, 1px, 1px, 1px);\n",
       "  height: 1px;\n",
       "  margin: -1px;\n",
       "  overflow: hidden;\n",
       "  padding: 0;\n",
       "  position: absolute;\n",
       "  width: 1px;\n",
       "}\n",
       "\n",
       "#sk-container-id-10 div.sk-dashed-wrapped {\n",
       "  border: 1px dashed var(--sklearn-color-line);\n",
       "  margin: 0 0.4em 0.5em 0.4em;\n",
       "  box-sizing: border-box;\n",
       "  padding-bottom: 0.4em;\n",
       "  background-color: var(--sklearn-color-background);\n",
       "}\n",
       "\n",
       "#sk-container-id-10 div.sk-container {\n",
       "  /* jupyter's `normalize.less` sets `[hidden] { display: none; }`\n",
       "     but bootstrap.min.css set `[hidden] { display: none !important; }`\n",
       "     so we also need the `!important` here to be able to override the\n",
       "     default hidden behavior on the sphinx rendered scikit-learn.org.\n",
       "     See: https://github.com/scikit-learn/scikit-learn/issues/21755 */\n",
       "  display: inline-block !important;\n",
       "  position: relative;\n",
       "}\n",
       "\n",
       "#sk-container-id-10 div.sk-text-repr-fallback {\n",
       "  display: none;\n",
       "}\n",
       "\n",
       "div.sk-parallel-item,\n",
       "div.sk-serial,\n",
       "div.sk-item {\n",
       "  /* draw centered vertical line to link estimators */\n",
       "  background-image: linear-gradient(var(--sklearn-color-text-on-default-background), var(--sklearn-color-text-on-default-background));\n",
       "  background-size: 2px 100%;\n",
       "  background-repeat: no-repeat;\n",
       "  background-position: center center;\n",
       "}\n",
       "\n",
       "/* Parallel-specific style estimator block */\n",
       "\n",
       "#sk-container-id-10 div.sk-parallel-item::after {\n",
       "  content: \"\";\n",
       "  width: 100%;\n",
       "  border-bottom: 2px solid var(--sklearn-color-text-on-default-background);\n",
       "  flex-grow: 1;\n",
       "}\n",
       "\n",
       "#sk-container-id-10 div.sk-parallel {\n",
       "  display: flex;\n",
       "  align-items: stretch;\n",
       "  justify-content: center;\n",
       "  background-color: var(--sklearn-color-background);\n",
       "  position: relative;\n",
       "}\n",
       "\n",
       "#sk-container-id-10 div.sk-parallel-item {\n",
       "  display: flex;\n",
       "  flex-direction: column;\n",
       "}\n",
       "\n",
       "#sk-container-id-10 div.sk-parallel-item:first-child::after {\n",
       "  align-self: flex-end;\n",
       "  width: 50%;\n",
       "}\n",
       "\n",
       "#sk-container-id-10 div.sk-parallel-item:last-child::after {\n",
       "  align-self: flex-start;\n",
       "  width: 50%;\n",
       "}\n",
       "\n",
       "#sk-container-id-10 div.sk-parallel-item:only-child::after {\n",
       "  width: 0;\n",
       "}\n",
       "\n",
       "/* Serial-specific style estimator block */\n",
       "\n",
       "#sk-container-id-10 div.sk-serial {\n",
       "  display: flex;\n",
       "  flex-direction: column;\n",
       "  align-items: center;\n",
       "  background-color: var(--sklearn-color-background);\n",
       "  padding-right: 1em;\n",
       "  padding-left: 1em;\n",
       "}\n",
       "\n",
       "\n",
       "/* Toggleable style: style used for estimator/Pipeline/ColumnTransformer box that is\n",
       "clickable and can be expanded/collapsed.\n",
       "- Pipeline and ColumnTransformer use this feature and define the default style\n",
       "- Estimators will overwrite some part of the style using the `sk-estimator` class\n",
       "*/\n",
       "\n",
       "/* Pipeline and ColumnTransformer style (default) */\n",
       "\n",
       "#sk-container-id-10 div.sk-toggleable {\n",
       "  /* Default theme specific background. It is overwritten whether we have a\n",
       "  specific estimator or a Pipeline/ColumnTransformer */\n",
       "  background-color: var(--sklearn-color-background);\n",
       "}\n",
       "\n",
       "/* Toggleable label */\n",
       "#sk-container-id-10 label.sk-toggleable__label {\n",
       "  cursor: pointer;\n",
       "  display: block;\n",
       "  width: 100%;\n",
       "  margin-bottom: 0;\n",
       "  padding: 0.5em;\n",
       "  box-sizing: border-box;\n",
       "  text-align: center;\n",
       "}\n",
       "\n",
       "#sk-container-id-10 label.sk-toggleable__label-arrow:before {\n",
       "  /* Arrow on the left of the label */\n",
       "  content: \"▸\";\n",
       "  float: left;\n",
       "  margin-right: 0.25em;\n",
       "  color: var(--sklearn-color-icon);\n",
       "}\n",
       "\n",
       "#sk-container-id-10 label.sk-toggleable__label-arrow:hover:before {\n",
       "  color: var(--sklearn-color-text);\n",
       "}\n",
       "\n",
       "/* Toggleable content - dropdown */\n",
       "\n",
       "#sk-container-id-10 div.sk-toggleable__content {\n",
       "  max-height: 0;\n",
       "  max-width: 0;\n",
       "  overflow: hidden;\n",
       "  text-align: left;\n",
       "  /* unfitted */\n",
       "  background-color: var(--sklearn-color-unfitted-level-0);\n",
       "}\n",
       "\n",
       "#sk-container-id-10 div.sk-toggleable__content.fitted {\n",
       "  /* fitted */\n",
       "  background-color: var(--sklearn-color-fitted-level-0);\n",
       "}\n",
       "\n",
       "#sk-container-id-10 div.sk-toggleable__content pre {\n",
       "  margin: 0.2em;\n",
       "  border-radius: 0.25em;\n",
       "  color: var(--sklearn-color-text);\n",
       "  /* unfitted */\n",
       "  background-color: var(--sklearn-color-unfitted-level-0);\n",
       "}\n",
       "\n",
       "#sk-container-id-10 div.sk-toggleable__content.fitted pre {\n",
       "  /* unfitted */\n",
       "  background-color: var(--sklearn-color-fitted-level-0);\n",
       "}\n",
       "\n",
       "#sk-container-id-10 input.sk-toggleable__control:checked~div.sk-toggleable__content {\n",
       "  /* Expand drop-down */\n",
       "  max-height: 200px;\n",
       "  max-width: 100%;\n",
       "  overflow: auto;\n",
       "}\n",
       "\n",
       "#sk-container-id-10 input.sk-toggleable__control:checked~label.sk-toggleable__label-arrow:before {\n",
       "  content: \"▾\";\n",
       "}\n",
       "\n",
       "/* Pipeline/ColumnTransformer-specific style */\n",
       "\n",
       "#sk-container-id-10 div.sk-label input.sk-toggleable__control:checked~label.sk-toggleable__label {\n",
       "  color: var(--sklearn-color-text);\n",
       "  background-color: var(--sklearn-color-unfitted-level-2);\n",
       "}\n",
       "\n",
       "#sk-container-id-10 div.sk-label.fitted input.sk-toggleable__control:checked~label.sk-toggleable__label {\n",
       "  background-color: var(--sklearn-color-fitted-level-2);\n",
       "}\n",
       "\n",
       "/* Estimator-specific style */\n",
       "\n",
       "/* Colorize estimator box */\n",
       "#sk-container-id-10 div.sk-estimator input.sk-toggleable__control:checked~label.sk-toggleable__label {\n",
       "  /* unfitted */\n",
       "  background-color: var(--sklearn-color-unfitted-level-2);\n",
       "}\n",
       "\n",
       "#sk-container-id-10 div.sk-estimator.fitted input.sk-toggleable__control:checked~label.sk-toggleable__label {\n",
       "  /* fitted */\n",
       "  background-color: var(--sklearn-color-fitted-level-2);\n",
       "}\n",
       "\n",
       "#sk-container-id-10 div.sk-label label.sk-toggleable__label,\n",
       "#sk-container-id-10 div.sk-label label {\n",
       "  /* The background is the default theme color */\n",
       "  color: var(--sklearn-color-text-on-default-background);\n",
       "}\n",
       "\n",
       "/* On hover, darken the color of the background */\n",
       "#sk-container-id-10 div.sk-label:hover label.sk-toggleable__label {\n",
       "  color: var(--sklearn-color-text);\n",
       "  background-color: var(--sklearn-color-unfitted-level-2);\n",
       "}\n",
       "\n",
       "/* Label box, darken color on hover, fitted */\n",
       "#sk-container-id-10 div.sk-label.fitted:hover label.sk-toggleable__label.fitted {\n",
       "  color: var(--sklearn-color-text);\n",
       "  background-color: var(--sklearn-color-fitted-level-2);\n",
       "}\n",
       "\n",
       "/* Estimator label */\n",
       "\n",
       "#sk-container-id-10 div.sk-label label {\n",
       "  font-family: monospace;\n",
       "  font-weight: bold;\n",
       "  display: inline-block;\n",
       "  line-height: 1.2em;\n",
       "}\n",
       "\n",
       "#sk-container-id-10 div.sk-label-container {\n",
       "  text-align: center;\n",
       "}\n",
       "\n",
       "/* Estimator-specific */\n",
       "#sk-container-id-10 div.sk-estimator {\n",
       "  font-family: monospace;\n",
       "  border: 1px dotted var(--sklearn-color-border-box);\n",
       "  border-radius: 0.25em;\n",
       "  box-sizing: border-box;\n",
       "  margin-bottom: 0.5em;\n",
       "  /* unfitted */\n",
       "  background-color: var(--sklearn-color-unfitted-level-0);\n",
       "}\n",
       "\n",
       "#sk-container-id-10 div.sk-estimator.fitted {\n",
       "  /* fitted */\n",
       "  background-color: var(--sklearn-color-fitted-level-0);\n",
       "}\n",
       "\n",
       "/* on hover */\n",
       "#sk-container-id-10 div.sk-estimator:hover {\n",
       "  /* unfitted */\n",
       "  background-color: var(--sklearn-color-unfitted-level-2);\n",
       "}\n",
       "\n",
       "#sk-container-id-10 div.sk-estimator.fitted:hover {\n",
       "  /* fitted */\n",
       "  background-color: var(--sklearn-color-fitted-level-2);\n",
       "}\n",
       "\n",
       "/* Specification for estimator info (e.g. \"i\" and \"?\") */\n",
       "\n",
       "/* Common style for \"i\" and \"?\" */\n",
       "\n",
       ".sk-estimator-doc-link,\n",
       "a:link.sk-estimator-doc-link,\n",
       "a:visited.sk-estimator-doc-link {\n",
       "  float: right;\n",
       "  font-size: smaller;\n",
       "  line-height: 1em;\n",
       "  font-family: monospace;\n",
       "  background-color: var(--sklearn-color-background);\n",
       "  border-radius: 1em;\n",
       "  height: 1em;\n",
       "  width: 1em;\n",
       "  text-decoration: none !important;\n",
       "  margin-left: 1ex;\n",
       "  /* unfitted */\n",
       "  border: var(--sklearn-color-unfitted-level-1) 1pt solid;\n",
       "  color: var(--sklearn-color-unfitted-level-1);\n",
       "}\n",
       "\n",
       ".sk-estimator-doc-link.fitted,\n",
       "a:link.sk-estimator-doc-link.fitted,\n",
       "a:visited.sk-estimator-doc-link.fitted {\n",
       "  /* fitted */\n",
       "  border: var(--sklearn-color-fitted-level-1) 1pt solid;\n",
       "  color: var(--sklearn-color-fitted-level-1);\n",
       "}\n",
       "\n",
       "/* On hover */\n",
       "div.sk-estimator:hover .sk-estimator-doc-link:hover,\n",
       ".sk-estimator-doc-link:hover,\n",
       "div.sk-label-container:hover .sk-estimator-doc-link:hover,\n",
       ".sk-estimator-doc-link:hover {\n",
       "  /* unfitted */\n",
       "  background-color: var(--sklearn-color-unfitted-level-3);\n",
       "  color: var(--sklearn-color-background);\n",
       "  text-decoration: none;\n",
       "}\n",
       "\n",
       "div.sk-estimator.fitted:hover .sk-estimator-doc-link.fitted:hover,\n",
       ".sk-estimator-doc-link.fitted:hover,\n",
       "div.sk-label-container:hover .sk-estimator-doc-link.fitted:hover,\n",
       ".sk-estimator-doc-link.fitted:hover {\n",
       "  /* fitted */\n",
       "  background-color: var(--sklearn-color-fitted-level-3);\n",
       "  color: var(--sklearn-color-background);\n",
       "  text-decoration: none;\n",
       "}\n",
       "\n",
       "/* Span, style for the box shown on hovering the info icon */\n",
       ".sk-estimator-doc-link span {\n",
       "  display: none;\n",
       "  z-index: 9999;\n",
       "  position: relative;\n",
       "  font-weight: normal;\n",
       "  right: .2ex;\n",
       "  padding: .5ex;\n",
       "  margin: .5ex;\n",
       "  width: min-content;\n",
       "  min-width: 20ex;\n",
       "  max-width: 50ex;\n",
       "  color: var(--sklearn-color-text);\n",
       "  box-shadow: 2pt 2pt 4pt #999;\n",
       "  /* unfitted */\n",
       "  background: var(--sklearn-color-unfitted-level-0);\n",
       "  border: .5pt solid var(--sklearn-color-unfitted-level-3);\n",
       "}\n",
       "\n",
       ".sk-estimator-doc-link.fitted span {\n",
       "  /* fitted */\n",
       "  background: var(--sklearn-color-fitted-level-0);\n",
       "  border: var(--sklearn-color-fitted-level-3);\n",
       "}\n",
       "\n",
       ".sk-estimator-doc-link:hover span {\n",
       "  display: block;\n",
       "}\n",
       "\n",
       "/* \"?\"-specific style due to the `<a>` HTML tag */\n",
       "\n",
       "#sk-container-id-10 a.estimator_doc_link {\n",
       "  float: right;\n",
       "  font-size: 1rem;\n",
       "  line-height: 1em;\n",
       "  font-family: monospace;\n",
       "  background-color: var(--sklearn-color-background);\n",
       "  border-radius: 1rem;\n",
       "  height: 1rem;\n",
       "  width: 1rem;\n",
       "  text-decoration: none;\n",
       "  /* unfitted */\n",
       "  color: var(--sklearn-color-unfitted-level-1);\n",
       "  border: var(--sklearn-color-unfitted-level-1) 1pt solid;\n",
       "}\n",
       "\n",
       "#sk-container-id-10 a.estimator_doc_link.fitted {\n",
       "  /* fitted */\n",
       "  border: var(--sklearn-color-fitted-level-1) 1pt solid;\n",
       "  color: var(--sklearn-color-fitted-level-1);\n",
       "}\n",
       "\n",
       "/* On hover */\n",
       "#sk-container-id-10 a.estimator_doc_link:hover {\n",
       "  /* unfitted */\n",
       "  background-color: var(--sklearn-color-unfitted-level-3);\n",
       "  color: var(--sklearn-color-background);\n",
       "  text-decoration: none;\n",
       "}\n",
       "\n",
       "#sk-container-id-10 a.estimator_doc_link.fitted:hover {\n",
       "  /* fitted */\n",
       "  background-color: var(--sklearn-color-fitted-level-3);\n",
       "}\n",
       "</style><div id=\"sk-container-id-10\" class=\"sk-top-container\"><div class=\"sk-text-repr-fallback\"><pre>RidgeCV(cv=5, scoring=&#x27;neg_mean_absolute_error&#x27;)</pre><b>In a Jupyter environment, please rerun this cell to show the HTML representation or trust the notebook. <br />On GitHub, the HTML representation is unable to render, please try loading this page with nbviewer.org.</b></div><div class=\"sk-container\" hidden><div class=\"sk-item\"><div class=\"sk-estimator fitted sk-toggleable\"><input class=\"sk-toggleable__control sk-hidden--visually\" id=\"sk-estimator-id-10\" type=\"checkbox\" checked><label for=\"sk-estimator-id-10\" class=\"sk-toggleable__label fitted sk-toggleable__label-arrow fitted\">&nbsp;&nbsp;RidgeCV<a class=\"sk-estimator-doc-link fitted\" rel=\"noreferrer\" target=\"_blank\" href=\"https://scikit-learn.org/1.5/modules/generated/sklearn.linear_model.RidgeCV.html\">?<span>Documentation for RidgeCV</span></a><span class=\"sk-estimator-doc-link fitted\">i<span>Fitted</span></span></label><div class=\"sk-toggleable__content fitted\"><pre>RidgeCV(cv=5, scoring=&#x27;neg_mean_absolute_error&#x27;)</pre></div> </div></div></div></div>"
      ],
      "text/plain": [
       "RidgeCV(cv=5, scoring='neg_mean_absolute_error')"
      ]
     },
     "execution_count": 1047,
     "metadata": {},
     "output_type": "execute_result"
    }
   ],
   "source": [
    "# Feature/Target separation\n",
    "X_f= rent_v8.drop(columns=['longitude','province','price','latitude','price/sqft','city','postcode'])\n",
    "y_f = rent_v8['price']\n",
    "\n",
    "# Encoding\n",
    "encoder = OneHotEncoder(drop='first', sparse_output=False)\n",
    "encoded = encoder.fit_transform(X_f[['lease_term_1', 'furnishing_1', 'beds','baths','smoking','type','cats','dogs','postcode_index']])\n",
    "encoded_col = pd.DataFrame(encoded, columns = encoder.get_feature_names_out(['lease_term_1', 'furnishing_1', 'beds','baths','smoking','type','cats','dogs','postcode_index']))\n",
    "df_train = X_f.drop(columns=['lease_term_1', 'furnishing_1', 'beds','baths','smoking','type','cats','dogs','postcode_index']).join(encoded_col)\n",
    "\n",
    "# Sanity test\n",
    "compare(df_train, X_3) # Pass\n",
    "\n",
    "# Scaling\n",
    "scaler = RobustScaler()\n",
    "df_train[['sq_feet_num','bedroom/sqft','bathroom/sqft']] = scaler.fit_transform(pd.DataFrame(df_train[['sq_feet_num','bedroom/sqft','bathroom/sqft']]))\n",
    "\n",
    "\n",
    "# model initiation\n",
    "cv_f = KFold(n_splits=5)\n",
    "model_f = RidgeCV((0.1, 1.0, 10.0), scoring='neg_mean_absolute_error', cv=5) \n",
    "\n",
    "# Training\n",
    "model_f.fit(df_train, y_f)"
   ]
  },
  {
   "cell_type": "code",
   "execution_count": 1048,
   "metadata": {},
   "outputs": [
    {
     "data": {
      "text/html": [
       "<div>\n",
       "<style scoped>\n",
       "    .dataframe tbody tr th:only-of-type {\n",
       "        vertical-align: middle;\n",
       "    }\n",
       "\n",
       "    .dataframe tbody tr th {\n",
       "        vertical-align: top;\n",
       "    }\n",
       "\n",
       "    .dataframe thead th {\n",
       "        text-align: right;\n",
       "    }\n",
       "</style>\n",
       "<table border=\"1\" class=\"dataframe\">\n",
       "  <thead>\n",
       "    <tr style=\"text-align: right;\">\n",
       "      <th></th>\n",
       "      <th>sq_feet_num</th>\n",
       "      <th>bedroom/sqft</th>\n",
       "      <th>bathroom/sqft</th>\n",
       "      <th>lease_term_1_Negotiable</th>\n",
       "      <th>lease_term_1_Short Term</th>\n",
       "      <th>furnishing_1_Negotiable</th>\n",
       "      <th>furnishing_1_Unfurnished</th>\n",
       "      <th>beds_1</th>\n",
       "      <th>beds_2</th>\n",
       "      <th>beds_3</th>\n",
       "      <th>...</th>\n",
       "      <th>type_House</th>\n",
       "      <th>type_Main Floor</th>\n",
       "      <th>type_Room For Rent</th>\n",
       "      <th>type_Townhouse</th>\n",
       "      <th>cats_True</th>\n",
       "      <th>dogs_True</th>\n",
       "      <th>postcode_index_2.0</th>\n",
       "      <th>postcode_index_3.0</th>\n",
       "      <th>postcode_index_4.0</th>\n",
       "      <th>postcode_index_5.0</th>\n",
       "    </tr>\n",
       "  </thead>\n",
       "  <tbody>\n",
       "    <tr>\n",
       "      <th>coef</th>\n",
       "      <td>431.545591</td>\n",
       "      <td>-76.786326</td>\n",
       "      <td>77.7585</td>\n",
       "      <td>100.036599</td>\n",
       "      <td>291.473932</td>\n",
       "      <td>-154.295289</td>\n",
       "      <td>-270.331894</td>\n",
       "      <td>366.917582</td>\n",
       "      <td>629.075176</td>\n",
       "      <td>925.884307</td>\n",
       "      <td>...</td>\n",
       "      <td>33.117975</td>\n",
       "      <td>-199.484937</td>\n",
       "      <td>-1067.602932</td>\n",
       "      <td>-163.23654</td>\n",
       "      <td>-37.047305</td>\n",
       "      <td>100.478504</td>\n",
       "      <td>589.922029</td>\n",
       "      <td>1081.207093</td>\n",
       "      <td>1682.800749</td>\n",
       "      <td>2310.504539</td>\n",
       "    </tr>\n",
       "  </tbody>\n",
       "</table>\n",
       "<p>1 rows × 45 columns</p>\n",
       "</div>"
      ],
      "text/plain": [
       "      sq_feet_num  bedroom/sqft  bathroom/sqft  lease_term_1_Negotiable  \\\n",
       "coef   431.545591    -76.786326        77.7585               100.036599   \n",
       "\n",
       "      lease_term_1_Short Term  furnishing_1_Negotiable  \\\n",
       "coef               291.473932              -154.295289   \n",
       "\n",
       "      furnishing_1_Unfurnished      beds_1      beds_2      beds_3  ...  \\\n",
       "coef               -270.331894  366.917582  629.075176  925.884307  ...   \n",
       "\n",
       "      type_House  type_Main Floor  type_Room For Rent  type_Townhouse  \\\n",
       "coef   33.117975      -199.484937        -1067.602932      -163.23654   \n",
       "\n",
       "      cats_True   dogs_True  postcode_index_2.0  postcode_index_3.0  \\\n",
       "coef -37.047305  100.478504          589.922029         1081.207093   \n",
       "\n",
       "      postcode_index_4.0  postcode_index_5.0  \n",
       "coef         1682.800749         2310.504539  \n",
       "\n",
       "[1 rows x 45 columns]"
      ]
     },
     "execution_count": 1048,
     "metadata": {},
     "output_type": "execute_result"
    }
   ],
   "source": [
    "# Formula parameters\n",
    "coef = model_f.coef_.reshape((-1,1))\n",
    "\n",
    "pd.DataFrame(coef, index = df_train.columns, columns=['coef']).T"
   ]
  },
  {
   "cell_type": "markdown",
   "metadata": {},
   "source": [
    "## Testing\n",
    "Data will be used from [rentfaster](https://www.rentfaster.ca/bc/victoria/rentals/?l=12,48.4706,-123.2231), to test the actual performance of the model. "
   ]
  },
  {
   "cell_type": "code",
   "execution_count": 1049,
   "metadata": {},
   "outputs": [
    {
     "data": {
      "text/plain": [
       "True"
      ]
     },
     "execution_count": 1049,
     "metadata": {},
     "output_type": "execute_result"
    }
   ],
   "source": [
    "# test_df estblishment\n",
    "test_df = pd.DataFrame({'index' : [1,2,3],\n",
    "                        'city' : ['Langford', 'Montréal', 'Toronto'], # Not used\n",
    "                        'province' : ['BC', 'QC', 'ON'], # Not used, therefore the code is used for simplicity\n",
    "                        'address' : ['2763 Spencer Rd.', '5460 Sunnybrooke Avenue', '5 Short Crescent'],\n",
    "                        'latitude' : [48.45, 45.46, 43.91],\n",
    "                        'longitude' : [-123.51, -73.66, -78.78],\n",
    "                        'lease_term_1': ['Long Term', 'Long Term', 'Long Term'],\n",
    "                        'type' : ['Apartment', 'Apartment', 'House'],\n",
    "                        'price':[1900, 1325, 2995],\n",
    "                        'beds' : [2, 1, 3],\n",
    "                        'baths' : [2, 1, 3],\n",
    "                        'sq_feet_num' : [889, 750, 1500],\n",
    "                        'link' : ['https://www.rentfaster.ca/bc/langford/rentals/apartment/2-bedrooms/pet-friendly/577860?-RSYNC',\n",
    "                                    'https://www.rentfaster.ca/qc/c-te-saint-luc/rentals/apartment/1-bedroom/pet-friendly/477766?-RSYNC',\n",
    "                                    'https://www.rentfaster.ca/on/clarington/rentals/house/3-bedrooms/pet-friendly/578012?-RSYNC'],\n",
    "                        'furnishing_1' : ['Unfurnished', 'Unfurnished', 'Unfurnished'],\n",
    "                        'availability_date' : [None, None, None], # Not used\n",
    "                        'smoking' : ['Non-Smoking', 'Non-Smoking', 'Non-Smoking'],\n",
    "                        'cats' : [True, True, True],\n",
    "                        'dogs' : [False, True, True]})\n",
    "rent_org.shape[1] == test_df.shape[1] # Pass\n"
   ]
  },
  {
   "cell_type": "code",
   "execution_count": 1050,
   "metadata": {},
   "outputs": [
    {
     "data": {
      "text/plain": [
       "city             0\n",
       "province         0\n",
       "latitude         0\n",
       "longitude        0\n",
       "lease_term_1     0\n",
       "type             0\n",
       "price            0\n",
       "beds             0\n",
       "baths            0\n",
       "sq_feet_num      0\n",
       "furnishing_1     0\n",
       "smoking          0\n",
       "cats             0\n",
       "dogs             0\n",
       "bedroom/sqft     0\n",
       "bathroom/sqft    0\n",
       "price/sqft       3\n",
       "dtype: int64"
      ]
     },
     "execution_count": 1050,
     "metadata": {},
     "output_type": "execute_result"
    }
   ],
   "source": [
    "# Feature craetion to match format of rent_v6\n",
    "test_df['bedroom/sqft'] = test_df['beds']/test_df['sq_feet_num']\n",
    "test_df['bathroom/sqft'] = test_df['baths']/test_df['sq_feet_num']\n",
    "test_df['price/sqft'] = [None, None, None] # We are pretending that we do not know the pricert\n",
    "test_df['sq_feet_num'] = np.log(test_df['sq_feet_num'])\n",
    "\n",
    "to_drop = []\n",
    "for names in list(test_df.columns):\n",
    "    if names not in list(rent_v6.columns):\n",
    "        to_drop.append(names)\n",
    "\n",
    "test_df.drop(columns=to_drop,inplace=True)\n",
    "\n",
    "test_df.isna().sum()"
   ]
  },
  {
   "cell_type": "markdown",
   "metadata": {},
   "source": [
    "Up to this point, the `test_df` should match teh format of `rent_v6`."
   ]
  },
  {
   "cell_type": "code",
   "execution_count": 1051,
   "metadata": {},
   "outputs": [
    {
     "data": {
      "text/plain": [
       "True"
      ]
     },
     "execution_count": 1051,
     "metadata": {},
     "output_type": "execute_result"
    }
   ],
   "source": [
    "# Match postal code\n",
    "test_points_df = test_df[['longitude','latitude']]\n",
    "test_postcode_imputed = []\n",
    "for i in range(test_points_df.shape[0]):\n",
    "    test_postcode_imputed.append(find_closest(rent_v8,test_points_df.iloc[i]))\n",
    "    \n",
    "test_df['postcode'] = test_postcode_imputed\n",
    "test_df = pd.merge(test_df, est, how='left', on='postcode')\n",
    "\n",
    "# Sanity test\n",
    "set(test_df.columns) == set(rent_v8.columns) # Pass"
   ]
  },
  {
   "cell_type": "markdown",
   "metadata": {},
   "source": [
    "Up to this point, the `test_df` should match teh format of `rent_v8`."
   ]
  },
  {
   "cell_type": "code",
   "execution_count": 1052,
   "metadata": {},
   "outputs": [],
   "source": [
    "# The following is better to be converted into a formula so that it can be applied to all dataset that looks like rent_org\n",
    "# However, due to the time restrian, I would not demonstrate it\n",
    "\n",
    "# Feature/Target separation\n",
    "X_test= test_df.drop(columns=['longitude','province','price','latitude','price/sqft','city','postcode'])\n",
    "y_test = test_df['price']\n",
    "X_test[[ 'cats', 'dogs']] = X_test[['cats', 'dogs']].astype(object)\n",
    "\n",
    "# Encoding\n",
    "encoded_test = encoder.transform(X_test[['lease_term_1', 'furnishing_1', 'beds','baths','smoking','type','cats','dogs','postcode_index']])\n",
    "encoded_col_test = pd.DataFrame(encoded_test, columns = encoder.get_feature_names_out(['lease_term_1', 'furnishing_1', 'beds','baths','smoking','type','cats','dogs','postcode_index']))\n",
    "df_test = X_test.drop(columns=['lease_term_1', 'furnishing_1', 'beds','baths','smoking','type','cats','dogs','postcode_index']).join(encoded_col_test)\n",
    "\n",
    "# Scaling\n",
    "df_test[['sq_feet_num','bedroom/sqft','bathroom/sqft']] = scaler.transform(pd.DataFrame(df_test[['sq_feet_num','bedroom/sqft','bathroom/sqft']]))\n"
   ]
  },
  {
   "cell_type": "code",
   "execution_count": 1053,
   "metadata": {},
   "outputs": [],
   "source": [
    "final_prediction = pd.DataFrame(model_f.predict(df_test))\n",
    "\n"
   ]
  },
  {
   "cell_type": "code",
   "execution_count": 1054,
   "metadata": {},
   "outputs": [
    {
     "data": {
      "text/html": [
       "<div>\n",
       "<style scoped>\n",
       "    .dataframe tbody tr th:only-of-type {\n",
       "        vertical-align: middle;\n",
       "    }\n",
       "\n",
       "    .dataframe tbody tr th {\n",
       "        vertical-align: top;\n",
       "    }\n",
       "\n",
       "    .dataframe thead th {\n",
       "        text-align: right;\n",
       "    }\n",
       "</style>\n",
       "<table border=\"1\" class=\"dataframe\">\n",
       "  <thead>\n",
       "    <tr style=\"text-align: right;\">\n",
       "      <th></th>\n",
       "      <th>actual price</th>\n",
       "      <th>predicted price</th>\n",
       "    </tr>\n",
       "  </thead>\n",
       "  <tbody>\n",
       "    <tr>\n",
       "      <th>0</th>\n",
       "      <td>1900</td>\n",
       "      <td>2870.906168</td>\n",
       "    </tr>\n",
       "    <tr>\n",
       "      <th>1</th>\n",
       "      <td>1325</td>\n",
       "      <td>1295.304171</td>\n",
       "    </tr>\n",
       "    <tr>\n",
       "      <th>2</th>\n",
       "      <td>2995</td>\n",
       "      <td>2906.799217</td>\n",
       "    </tr>\n",
       "  </tbody>\n",
       "</table>\n",
       "</div>"
      ],
      "text/plain": [
       "   actual price  predicted price\n",
       "0          1900      2870.906168\n",
       "1          1325      1295.304171\n",
       "2          2995      2906.799217"
      ]
     },
     "execution_count": 1054,
     "metadata": {},
     "output_type": "execute_result"
    }
   ],
   "source": [
    "performance = test_df.reset_index()[['index','price']].join(final_prediction).drop(columns='index')\n",
    "performance.columns = ['actual price', 'predicted price']\n",
    "performance"
   ]
  },
  {
   "cell_type": "markdown",
   "metadata": {},
   "source": [
    "The prediction is actually very good. It is very off for the property in Langford. This is probably because in the original dataset, there is no properties that is in Langford, so that the closest property would be in Vancouver. Since postcode_index is an very important feature in the model, when this is wrongly predicted, it will influence badly the performance of the model. "
   ]
  },
  {
   "cell_type": "code",
   "execution_count": 1055,
   "metadata": {},
   "outputs": [
    {
     "data": {
      "text/html": [
       "<div>\n",
       "<style scoped>\n",
       "    .dataframe tbody tr th:only-of-type {\n",
       "        vertical-align: middle;\n",
       "    }\n",
       "\n",
       "    .dataframe tbody tr th {\n",
       "        vertical-align: top;\n",
       "    }\n",
       "\n",
       "    .dataframe thead th {\n",
       "        text-align: right;\n",
       "    }\n",
       "</style>\n",
       "<table border=\"1\" class=\"dataframe\">\n",
       "  <thead>\n",
       "    <tr style=\"text-align: right;\">\n",
       "      <th></th>\n",
       "      <th>city</th>\n",
       "      <th>latitude</th>\n",
       "      <th>longitude</th>\n",
       "    </tr>\n",
       "  </thead>\n",
       "  <tbody>\n",
       "    <tr>\n",
       "      <th>8241</th>\n",
       "      <td>Langford</td>\n",
       "      <td>48.45</td>\n",
       "      <td>-123.51</td>\n",
       "    </tr>\n",
       "  </tbody>\n",
       "</table>\n",
       "</div>"
      ],
      "text/plain": [
       "          city  latitude  longitude\n",
       "8241  Langford     48.45    -123.51"
      ]
     },
     "execution_count": 1055,
     "metadata": {},
     "output_type": "execute_result"
    }
   ],
   "source": [
    "rent_v8[rent_v8['postcode'] == test_df['postcode'].iloc[0]][['city', 'latitude', 'longitude']].drop_duplicates() # It matched with Langford."
   ]
  },
  {
   "cell_type": "code",
   "execution_count": 1056,
   "metadata": {},
   "outputs": [
    {
     "data": {
      "text/plain": [
       "latitude      48.45\n",
       "longitude   -123.51\n",
       "Name: 0, dtype: float64"
      ]
     },
     "execution_count": 1056,
     "metadata": {},
     "output_type": "execute_result"
    }
   ],
   "source": [
    "test_df[['latitude','longitude']].iloc[0]"
   ]
  },
  {
   "cell_type": "markdown",
   "metadata": {},
   "source": [
    "My explanation above does not hold... Since the address is literally 3 mins away from the predicted postal code. There is one explanation to that: this apartment is very cheap compared with the rest in the dataset. Maybe you should go ahead and check it out. "
   ]
  },
  {
   "cell_type": "code",
   "execution_count": 1057,
   "metadata": {},
   "outputs": [
    {
     "data": {
      "text/plain": [
       "2561.8923076923083"
      ]
     },
     "execution_count": 1057,
     "metadata": {},
     "output_type": "execute_result"
    }
   ],
   "source": [
    "rent_v8[rent_v8['city'] == 'Langford']['price'].mean()"
   ]
  },
  {
   "cell_type": "markdown",
   "metadata": {},
   "source": [
    "## Improvement\n",
    "There are a lot of things to be improved in the model:\n",
    "1. I tried to keep as many original data as possible, but sometimes this might not be a good idea. This will probably improve with experience? I don't know lol.\n",
    "2. As mentioned, the model3 has some overfitting issues, one can be fixed relatively easily, the other can be fixed by using a bigger training dataset. \n",
    "3. Polynomial features are not created. \n",
    "4. When comparing the performance of different models (technically they are the same, it is the training features that is different), it is better to use the same random seed.\n",
    "5. The model is a little bit slow to run. \n",
    "6. I should have used model2 as my final model as it does not have a known overfitting issue and the performance are almost the same compared with model3. However it is already 4pm in the afternoon, I will just give it a pass...\n",
    "\n",
    "Too many things to be improved omg, but it is a good start anyways."
   ]
  }
 ],
 "metadata": {
  "kernelspec": {
   "display_name": "base",
   "language": "python",
   "name": "python3"
  },
  "language_info": {
   "codemirror_mode": {
    "name": "ipython",
    "version": 3
   },
   "file_extension": ".py",
   "mimetype": "text/x-python",
   "name": "python",
   "nbconvert_exporter": "python",
   "pygments_lexer": "ipython3",
   "version": "3.9.13"
  }
 },
 "nbformat": 4,
 "nbformat_minor": 2
}
